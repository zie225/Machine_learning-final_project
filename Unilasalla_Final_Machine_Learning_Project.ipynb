{
 "cells": [
  {
   "cell_type": "markdown",
   "metadata": {},
   "source": [
    "# HYGIENE PREDICTION OF FOOD CHAIN ESTABLISHMENTS IN FRANCE BASED ON DATA OF ALIM'CONFIANCE : COMPARISON OF MACHINE LEARNING MODEL WITH CLASSIFICATION PROBLEM "
   ]
  },
  {
   "cell_type": "markdown",
   "metadata": {},
   "source": [
    "<h3>Machine learning project<h3> <br>\n",
    "\n",
    "1. Abstract\n",
    "2. Introduction\n",
    "3. Machine learning model computational\n",
    "4. Result and Discussion\n",
    "5. Conclusion<br>\n",
    "    \n",
    "    \n",
    "Machine learning model,classification problem:<br>    \n",
    "    \n",
    "\n",
    "* K Nearest Neigbor classifier\n",
    "* Gradient Boosting classifier\n",
    "* Random Forest classifier\n",
    "* Neural NetWork <br>\n",
    "    \n",
    "    \n",
    "With cross validation,\n",
    "\n",
    "- we will apply our machine learning \n",
    "- we will apply the hyperparameter for each model to search the best parameter value to optimize our model\n",
    " "
   ]
  },
  {
   "cell_type": "markdown",
   "metadata": {},
   "source": [
    "# ABSTRACT"
   ]
  },
  {
   "cell_type": "markdown",
   "metadata": {},
   "source": [
    "\n",
    "The precise health hygiene prediction of food chain establishments in France has many applications for hygiene monitoring in the various establishments of the food chain as well as the planning of food health controls in these establishments.\n",
    "Descriptive statistical methods have been used to provide information on the level of hygiene of these establishments. This study aims to predict the health hygiene of food chain establishments using data from Alim'Confiance by machine learning models.\n",
    "Machine learning models by the optimization of hyperparameters with cross-validation have been induced to predict the health hygiene of the establishments of the food chain in France.\n",
    "We then compared 4 machine learning models to find out the most robust model in terms of prediction using the models such as K Nearest Neighbord,Gradient Boosting classified, Random forest classified and Neural Network.It was concluded that the prediction performance of the Random forest Classifier was significantly robust with an 85% score in automatic and hyperparametre.\n",
    "but with the hyperparameter, we noticed in the Gradient boosting classifier model that if we increase the number of classification tree estimates by controlling the learning process, we will have a better classification than the random forest.\n"
   ]
  },
  {
   "cell_type": "markdown",
   "metadata": {},
   "source": [
    "# INTRODUCTION"
   ]
  },
  {
   "cell_type": "markdown",
   "metadata": {},
   "source": [
    "Like the saying goes, “A healthy people, is a healthy nation.”\n",
    "For people to stay healthy, it is important that some measures of hygiene are considered when handling food and drinks. Food hygiene can therefore be defined as the handling, preparing, and storing food or drinks in a way that best minimizes the risk of consumers becoming sick from the food-borne disease. The overall purpose of food hygiene is to prepare and provide safe food and consequently contribute to a healthy and productive society.\n",
    "\n",
    "The Federal Ministry of Agriculture and L’alimentation, France took the initiative towards boosting the confidence of the people regarding the level of sanitary measures maintained in various food chain (restaurants, canteens, and slaughterhouses, etc..) in France.\n",
    "The publication of the result of health checks in the food sector is a legitimate expectation of citizens which contributes to improving consumer confidence. Provided by the law of the future for agriculture, food, and forestry, of October 13, 2014, this measure is part of an evolution towards greater transparency of state action.\n",
    "Alim’confiance, the dataset on which we worked on comes from a certified public service. On its application as well as its website www.alim-confiance.gouv.fr , consumers can have access to the results of health checks carried out in all establishments in the food chain. The result allows you to know the overall level of hygiene of the food establishment and gives you an idea of compliance with hygiene standards: cleanliness of premises and equipment, hygiene of staff and handling, respect for the supply chain.\n",
    "\n",
    "Various Machine Learning ML  have been  applied on sanitary, health, biological data  and more.\n",
    "Machine learning procedures will be carried out on Alim’Confiance data to classify the various food chain according to their level of compliance into Satisfactory, Very Satisfactory, To improve, and To be Corrected Urgently.\n",
    "\n"
   ]
  },
  {
   "cell_type": "markdown",
   "metadata": {},
   "source": [
    "# PROCEDURE"
   ]
  },
  {
   "cell_type": "markdown",
   "metadata": {},
   "source": [
    "First we preprocessed the data, second we split de data on train and test set with 70% of the train set and 30% of the test set , and next was the classification according to the results generated from the four methods of classification used (K Nearest Classifier, Gradient Boosting Classifier, Random Forest Classifier, and Neural Network). With Cross validation, we splitted the data into 5 train sets, test sets and fit the models to predict our target and evaluate the score of each models then we will applied the hyperparameter optimization on the 4 models of classification to get the best value of parameter to optimize our models. Regarding data visualization, we did Descriptive Statistics."
   ]
  },
  {
   "cell_type": "code",
   "execution_count": 1,
   "metadata": {},
   "outputs": [],
   "source": [
    "import pandas as pd\n",
    "from sklearn.model_selection import train_test_split\n",
    "import pandas as pd\n",
    "from sklearn import model_selection\n",
    "import sklearn as read_csv\n",
    "import numpy as np\n",
    "from sklearn.metrics import classification_report,accuracy_score,confusion_matrix\n",
    "from matplotlib import pyplot as plt\n",
    "from sklearn import svm\n",
    "from sklearn.neighbors import KNeighborsClassifier\n",
    "from sklearn.svm import SVC\n",
    "from sklearn.metrics import roc_curve, auc\n",
    "from sklearn.model_selection import train_test_split\n",
    "from sklearn.preprocessing import label_binarize\n",
    "from sklearn.multiclass import OneVsRestClassifier\n",
    "from scipy import interp\n",
    "from sklearn.preprocessing import LabelEncoder\n",
    "from sklearn import preprocessing\n",
    "from sklearn.decomposition import PCA\n",
    "from sklearn.preprocessing import StandardScaler\n",
    "from sklearn.neural_network import MLPClassifier\n",
    "import numpy as np\n",
    "from random import shuffle\n",
    "from operator import itemgetter\n",
    "from sklearn import preprocessing\n",
    "from gplearn.genetic import SymbolicRegressor\n",
    "from sklearn.utils.random import check_random_state\n",
    "import numpy as np\n",
    "from sklearn.model_selection import KFold\n",
    "from sklearn.model_selection import cross_val_score\n",
    "from sklearn.ensemble import RandomForestClassifier\n",
    "from sklearn.ensemble import BaggingClassifier\n",
    "from sklearn.model_selection import cross_val_score, train_test_split\n",
    "from mlxtend.plotting import plot_learning_curves\n",
    "from mlxtend.plotting import plot_decision_regions\n",
    "import itertools\n",
    "from sklearn.tree import DecisionTreeClassifier\n",
    "from sklearn.model_selection import train_test_split, GridSearchCV\n",
    "import numpy as np\n",
    "import xgboost as xgb\n",
    "import seaborn as sns\n",
    "import matplotlib.pyplot as plt\n",
    "import matplotlib.gridspec as gridspec\n",
    "from mlxtend.classifier import StackingClassifier\n",
    "from sklearn.linear_model import LogisticRegression\n",
    "from sklearn.model_selection import GridSearchCV \n",
    "from matplotlib import pyplot\n",
    "#We choose 5 cross validation for our machine learning model\n",
    "n_folds = KFold(n_splits =5,shuffle= False )\n",
    "from sklearn.model_selection import RandomizedSearchCV\n",
    "from sklearn.metrics import jaccard_score\n",
    "\n",
    "import xgboost as xgb\n",
    "from sklearn.metrics import accuracy_score\n",
    "from numpy import mean\n",
    "from numpy import std\n",
    "from sklearn.model_selection import RepeatedStratifiedKFold # evaluate a given model using cross-validation\n",
    "\n",
    "# import packages for hyperparameters tuning\n",
    "from hyperopt import STATUS_OK, Trials, fmin, hp, tpe\n",
    "from itertools import cycle\n",
    "from sklearn.tree import DecisionTreeClassifier\n",
    "from sklearn import svm, datasets\n",
    "from sklearn.metrics import roc_curve, auc\n",
    "from sklearn.model_selection import train_test_split\n",
    "from sklearn.preprocessing import label_binarize\n",
    "from sklearn.multiclass import OneVsRestClassifier\n",
    "from scipy import interp"
   ]
  },
  {
   "cell_type": "markdown",
   "metadata": {},
   "source": [
    "# CLASSIFICATION DATA"
   ]
  },
  {
   "cell_type": "code",
   "execution_count": 2,
   "metadata": {},
   "outputs": [],
   "source": [
    "df=pd.read_csv(\"export_alimconfiance.csv\", error_bad_lines=False,sep=';')"
   ]
  },
  {
   "cell_type": "code",
   "execution_count": 3,
   "metadata": {},
   "outputs": [
    {
     "data": {
      "text/html": [
       "<div>\n",
       "<style scoped>\n",
       "    .dataframe tbody tr th:only-of-type {\n",
       "        vertical-align: middle;\n",
       "    }\n",
       "\n",
       "    .dataframe tbody tr th {\n",
       "        vertical-align: top;\n",
       "    }\n",
       "\n",
       "    .dataframe thead th {\n",
       "        text-align: right;\n",
       "    }\n",
       "</style>\n",
       "<table border=\"1\" class=\"dataframe\">\n",
       "  <thead>\n",
       "    <tr style=\"text-align: right;\">\n",
       "      <th></th>\n",
       "      <th>APP_Libelle_etablissement</th>\n",
       "      <th>SIRET</th>\n",
       "      <th>Code_postal</th>\n",
       "      <th>Libelle_commune</th>\n",
       "      <th>Numero_inspection</th>\n",
       "      <th>Date_inspection</th>\n",
       "      <th>APP_Libelle_activite_etablissement</th>\n",
       "      <th>Synthese_eval_sanit</th>\n",
       "      <th>Agrement</th>\n",
       "      <th>geores</th>\n",
       "      <th>filtre</th>\n",
       "      <th>ods_type_activite</th>\n",
       "    </tr>\n",
       "  </thead>\n",
       "  <tbody>\n",
       "    <tr>\n",
       "      <th>0</th>\n",
       "      <td>NATURALIA FRANCE</td>\n",
       "      <td>30247464801340</td>\n",
       "      <td>92370</td>\n",
       "      <td>CHAVILLE</td>\n",
       "      <td>15574758</td>\n",
       "      <td>2020-06-08T02:00:00+02:00</td>\n",
       "      <td>Alimentation générale</td>\n",
       "      <td>Très satisfaisant</td>\n",
       "      <td>NaN</td>\n",
       "      <td>48.808791,2.188615</td>\n",
       "      <td>Alimentation générale</td>\n",
       "      <td>Autres</td>\n",
       "    </tr>\n",
       "    <tr>\n",
       "      <th>1</th>\n",
       "      <td>NATURALIA (NATURALIA FRANCE)</td>\n",
       "      <td>30247464800573</td>\n",
       "      <td>92800</td>\n",
       "      <td>PUTEAUX</td>\n",
       "      <td>15765263</td>\n",
       "      <td>2020-10-27T01:00:00+01:00</td>\n",
       "      <td>Alimentation générale</td>\n",
       "      <td>Satisfaisant</td>\n",
       "      <td>NaN</td>\n",
       "      <td>48.891775,2.241034</td>\n",
       "      <td>Alimentation générale</td>\n",
       "      <td>Autres</td>\n",
       "    </tr>\n",
       "    <tr>\n",
       "      <th>2</th>\n",
       "      <td>NATURALIA FRANCE</td>\n",
       "      <td>30247464800409</td>\n",
       "      <td>92500</td>\n",
       "      <td>RUEIL MALMAISON</td>\n",
       "      <td>15622009</td>\n",
       "      <td>2020-07-08T02:00:00+02:00</td>\n",
       "      <td>Alimentation générale</td>\n",
       "      <td>Très satisfaisant</td>\n",
       "      <td>NaN</td>\n",
       "      <td>48.878679,2.181655</td>\n",
       "      <td>Alimentation générale</td>\n",
       "      <td>Autres</td>\n",
       "    </tr>\n",
       "    <tr>\n",
       "      <th>3</th>\n",
       "      <td>LA FROMAGEE JEAN YVES BORDIER</td>\n",
       "      <td>30445415000109</td>\n",
       "      <td>94100</td>\n",
       "      <td>SAINT MAUR DES FOSSES</td>\n",
       "      <td>15843816</td>\n",
       "      <td>2020-12-04T01:00:00+01:00</td>\n",
       "      <td>Alimentation générale</td>\n",
       "      <td>Très satisfaisant</td>\n",
       "      <td>NaN</td>\n",
       "      <td>48.803811,2.485354</td>\n",
       "      <td>Alimentation générale</td>\n",
       "      <td>Autres</td>\n",
       "    </tr>\n",
       "    <tr>\n",
       "      <th>4</th>\n",
       "      <td>NATURALIA FRANCE</td>\n",
       "      <td>30247464801134</td>\n",
       "      <td>92500</td>\n",
       "      <td>RUEIL MALMAISON</td>\n",
       "      <td>15600626</td>\n",
       "      <td>2020-06-23T02:00:00+02:00</td>\n",
       "      <td>Alimentation générale</td>\n",
       "      <td>Très satisfaisant</td>\n",
       "      <td>NaN</td>\n",
       "      <td>48.862706,2.193011</td>\n",
       "      <td>Alimentation générale</td>\n",
       "      <td>Autres</td>\n",
       "    </tr>\n",
       "  </tbody>\n",
       "</table>\n",
       "</div>"
      ],
      "text/plain": [
       "       APP_Libelle_etablissement           SIRET Code_postal  \\\n",
       "0               NATURALIA FRANCE  30247464801340       92370   \n",
       "1   NATURALIA (NATURALIA FRANCE)  30247464800573       92800   \n",
       "2               NATURALIA FRANCE  30247464800409       92500   \n",
       "3  LA FROMAGEE JEAN YVES BORDIER  30445415000109       94100   \n",
       "4               NATURALIA FRANCE  30247464801134       92500   \n",
       "\n",
       "         Libelle_commune Numero_inspection            Date_inspection  \\\n",
       "0               CHAVILLE          15574758  2020-06-08T02:00:00+02:00   \n",
       "1                PUTEAUX          15765263  2020-10-27T01:00:00+01:00   \n",
       "2        RUEIL MALMAISON          15622009  2020-07-08T02:00:00+02:00   \n",
       "3  SAINT MAUR DES FOSSES          15843816  2020-12-04T01:00:00+01:00   \n",
       "4        RUEIL MALMAISON          15600626  2020-06-23T02:00:00+02:00   \n",
       "\n",
       "  APP_Libelle_activite_etablissement Synthese_eval_sanit Agrement  \\\n",
       "0              Alimentation générale   Très satisfaisant      NaN   \n",
       "1              Alimentation générale        Satisfaisant      NaN   \n",
       "2              Alimentation générale   Très satisfaisant      NaN   \n",
       "3              Alimentation générale   Très satisfaisant      NaN   \n",
       "4              Alimentation générale   Très satisfaisant      NaN   \n",
       "\n",
       "               geores                 filtre ods_type_activite  \n",
       "0  48.808791,2.188615  Alimentation générale            Autres  \n",
       "1  48.891775,2.241034  Alimentation générale            Autres  \n",
       "2  48.878679,2.181655  Alimentation générale            Autres  \n",
       "3  48.803811,2.485354  Alimentation générale            Autres  \n",
       "4  48.862706,2.193011  Alimentation générale            Autres  "
      ]
     },
     "execution_count": 3,
     "metadata": {},
     "output_type": "execute_result"
    }
   ],
   "source": [
    "df.head()"
   ]
  },
  {
   "cell_type": "code",
   "execution_count": 4,
   "metadata": {},
   "outputs": [
    {
     "data": {
      "text/plain": [
       "APP_Libelle_etablissement             object\n",
       "SIRET                                 object\n",
       "Code_postal                           object\n",
       "Libelle_commune                       object\n",
       "Numero_inspection                     object\n",
       "Date_inspection                       object\n",
       "APP_Libelle_activite_etablissement    object\n",
       "Synthese_eval_sanit                   object\n",
       "Agrement                              object\n",
       "geores                                object\n",
       "filtre                                object\n",
       "ods_type_activite                     object\n",
       "dtype: object"
      ]
     },
     "execution_count": 4,
     "metadata": {},
     "output_type": "execute_result"
    }
   ],
   "source": [
    "df.dtypes"
   ]
  },
  {
   "cell_type": "code",
   "execution_count": 5,
   "metadata": {},
   "outputs": [
    {
     "data": {
      "text/plain": [
       "(30799, 12)"
      ]
     },
     "execution_count": 5,
     "metadata": {},
     "output_type": "execute_result"
    }
   ],
   "source": [
    "df.shape"
   ]
  },
  {
   "cell_type": "code",
   "execution_count": 6,
   "metadata": {},
   "outputs": [
    {
     "data": {
      "text/plain": [
       "Index(['APP_Libelle_etablissement', 'SIRET', 'Code_postal', 'Libelle_commune',\n",
       "       'Numero_inspection', 'Date_inspection',\n",
       "       'APP_Libelle_activite_etablissement', 'Synthese_eval_sanit', 'Agrement',\n",
       "       'geores', 'filtre', 'ods_type_activite'],\n",
       "      dtype='object')"
      ]
     },
     "execution_count": 6,
     "metadata": {},
     "output_type": "execute_result"
    }
   ],
   "source": [
    "df.columns"
   ]
  },
  {
   "cell_type": "markdown",
   "metadata": {},
   "source": [
    "\n",
    "## health control of food establishment chains\n",
    "[Link of data](https://data.opendatasoft.com/explore/dataset/export_alimconfiance%40dgal/table/?disjunctive.app_libelle_activite_etablissement&disjunctive.filtre&disjunctive.ods_type_activite)\n",
    "\n",
    "\n",
    "3.Information about our target(multiclass classification problem)\n",
    "\n",
    "Official food safety checks released on March 1, 2017.\n",
    "\n",
    "Mentions of the 4 levels of hygiene:\n",
    "\n",
    "Very satisfactory level of hygiene: establishments that do not comply, or have only minor non-compliances.\n",
    "\n",
    "Satisfactory level of hygiene: establishments with non-compliances that do not justify the adoption of administrative police measures but to which the administrative authority sends a letter of reminder of the regulations in order to improve practices.\n",
    "\n",
    "Hygiene level to be improved: establishments whose operator has been ordered to take corrective action within a time frame set by the administrative authority and which leads to a new control of the state services to verify the implementation of these corrective measures.\n",
    "\n",
    "Hygiene level to be urgently corrected:\n",
    "establishments with non-compliances that could endanger the health of the consumer and for which the administrative authority orders administrative closure, withdrawal, or suspension of health accreditation.\n",
    "\n",
    "5. Number of Instances: 30799\n",
    "6. Number of Attributes: 12 \n",
    "  \n",
    " \n",
    "7. Attribute information:\n",
    "\n",
    "   1. APP_Libelle_etablissement- wording of the establishment activities\n",
    "   2. Synthese_eval_sanit- health evaluation synthese (our target)\n",
    "   3. filtre \n",
    "   4. ods_type_activite - type of activities\n",
    "   5. SIRET- Establishment SIRET\n",
    "   6. Code_postal - establishment ZIP CODE \n",
    "   7. Libelle_commune- wording of common establishment\n",
    "   8. Numero_inspection - Inspection number\n",
    "   9. Date_inspection - Inspection date\n",
    "   10. Agrement\n",
    "   11. geores \n",
    "  \n",
    "8. Missing Attribute Values: 31444"
   ]
  },
  {
   "cell_type": "markdown",
   "metadata": {},
   "source": [
    "# Multiclass:"
   ]
  },
  {
   "cell_type": "code",
   "execution_count": 6,
   "metadata": {},
   "outputs": [],
   "source": [
    "c=df['Synthese_eval_sanit'].value_counts()"
   ]
  },
  {
   "cell_type": "code",
   "execution_count": 7,
   "metadata": {},
   "outputs": [
    {
     "data": {
      "text/plain": [
       "Satisfaisant                     15575\n",
       "Très satisfaisant                13334\n",
       "A améliorer                       1780\n",
       "A corriger de manière urgente      110\n",
       "Name: Synthese_eval_sanit, dtype: int64"
      ]
     },
     "execution_count": 7,
     "metadata": {},
     "output_type": "execute_result"
    }
   ],
   "source": [
    "#We can see the imbanlance class on our target\n",
    "c"
   ]
  },
  {
   "cell_type": "code",
   "execution_count": 8,
   "metadata": {},
   "outputs": [
    {
     "data": {
      "text/plain": [
       "<matplotlib.axes._subplots.AxesSubplot at 0x15189c118b0>"
      ]
     },
     "execution_count": 8,
     "metadata": {},
     "output_type": "execute_result"
    },
    {
     "data": {
      "image/png": "[encoded data removed]",
      "text/plain": [
       "<Figure size 432x288 with 1 Axes>"
      ]
     },
     "metadata": {
      "needs_background": "light"
     },
     "output_type": "display_data"
    }
   ],
   "source": [
    "df['Synthese_eval_sanit'].value_counts(normalize=False).plot(kind = 'bar', title = \"Evaluation synthesis of hygiene food\")"
   ]
  },
  {
   "cell_type": "markdown",
   "metadata": {},
   "source": [
    "# Check NaN on the data:"
   ]
  },
  {
   "cell_type": "code",
   "execution_count": 9,
   "metadata": {},
   "outputs": [
    {
     "data": {
      "text/plain": [
       "APP_Libelle_etablissement                 0\n",
       "SIRET                                     0\n",
       "Code_postal                               0\n",
       "Libelle_commune                           0\n",
       "Numero_inspection                         0\n",
       "Date_inspection                           0\n",
       "APP_Libelle_activite_etablissement        0\n",
       "Synthese_eval_sanit                       0\n",
       "Agrement                              21665\n",
       "geores                                  777\n",
       "filtre                                 9002\n",
       "ods_type_activite                         0\n",
       "dtype: int64"
      ]
     },
     "execution_count": 9,
     "metadata": {},
     "output_type": "execute_result"
    }
   ],
   "source": [
    "df.isnull().sum()"
   ]
  },
  {
   "cell_type": "markdown",
   "metadata": {},
   "source": [
    "# Data cleaning and processing for machine learning model"
   ]
  },
  {
   "cell_type": "markdown",
   "metadata": {},
   "source": [
    "# Data cleaning:"
   ]
  },
  {
   "cell_type": "code",
   "execution_count": 10,
   "metadata": {},
   "outputs": [],
   "source": [
    "# determine categorical and numerical features\n",
    "numerical_ix = df.select_dtypes(include=['int64', 'float64']).columns\n",
    "categorical_ix = df.select_dtypes(include=['object', 'bool']).columns"
   ]
  },
  {
   "cell_type": "code",
   "execution_count": 11,
   "metadata": {},
   "outputs": [
    {
     "name": "stdout",
     "output_type": "stream",
     "text": [
      "numerical variable:\n",
      "Index([], dtype='object')\n"
     ]
    }
   ],
   "source": [
    "print('numerical variable:')\n",
    "print( numerical_ix )"
   ]
  },
  {
   "cell_type": "code",
   "execution_count": 12,
   "metadata": {},
   "outputs": [
    {
     "name": "stdout",
     "output_type": "stream",
     "text": [
      "categorical variable\n",
      "Index(['APP_Libelle_etablissement', 'SIRET', 'Code_postal', 'Libelle_commune',\n",
      "       'Numero_inspection', 'Date_inspection',\n",
      "       'APP_Libelle_activite_etablissement', 'Synthese_eval_sanit', 'Agrement',\n",
      "       'geores', 'filtre', 'ods_type_activite'],\n",
      "      dtype='object')\n"
     ]
    }
   ],
   "source": [
    "print('categorical variable')\n",
    "print(categorical_ix )"
   ]
  },
  {
   "cell_type": "code",
   "execution_count": 13,
   "metadata": {},
   "outputs": [
    {
     "data": {
      "text/plain": [
       "count         9134\n",
       "unique        7211\n",
       "top       72080002\n",
       "freq            11\n",
       "Name: Agrement, dtype: object"
      ]
     },
     "execution_count": 13,
     "metadata": {},
     "output_type": "execute_result"
    }
   ],
   "source": [
    "df.Agrement.describe()"
   ]
  },
  {
   "cell_type": "code",
   "execution_count": 14,
   "metadata": {},
   "outputs": [],
   "source": [
    "df['Agrement'].fillna('72080002',inplace=True)"
   ]
  },
  {
   "cell_type": "code",
   "execution_count": 15,
   "metadata": {},
   "outputs": [
    {
     "data": {
      "text/plain": [
       "count                  30022\n",
       "unique                 25481\n",
       "top       42.565838,8.756981\n",
       "freq                      19\n",
       "Name: geores, dtype: object"
      ]
     },
     "execution_count": 15,
     "metadata": {},
     "output_type": "execute_result"
    }
   ],
   "source": [
    "df.geores.describe()"
   ]
  },
  {
   "cell_type": "code",
   "execution_count": 16,
   "metadata": {},
   "outputs": [],
   "source": [
    "df['geores'].fillna('42.565838,8.756981',inplace=True)"
   ]
  },
  {
   "cell_type": "code",
   "execution_count": 17,
   "metadata": {},
   "outputs": [
    {
     "data": {
      "text/plain": [
       "count      30799\n",
       "unique         7\n",
       "top       Autres\n",
       "freq       22362\n",
       "Name: ods_type_activite, dtype: object"
      ]
     },
     "execution_count": 17,
     "metadata": {},
     "output_type": "execute_result"
    }
   ],
   "source": [
    "df.ods_type_activite.describe()"
   ]
  },
  {
   "cell_type": "code",
   "execution_count": 18,
   "metadata": {},
   "outputs": [],
   "source": [
    "df['ods_type_activite'].fillna('Autres',inplace=True)"
   ]
  },
  {
   "cell_type": "code",
   "execution_count": 19,
   "metadata": {},
   "outputs": [
    {
     "data": {
      "text/plain": [
       "count          21797\n",
       "unique            92\n",
       "top       Restaurant\n",
       "freq            9240\n",
       "Name: filtre, dtype: object"
      ]
     },
     "execution_count": 19,
     "metadata": {},
     "output_type": "execute_result"
    }
   ],
   "source": [
    "df.filtre.describe()"
   ]
  },
  {
   "cell_type": "code",
   "execution_count": 20,
   "metadata": {},
   "outputs": [],
   "source": [
    "df['filtre'].fillna('Restaurant',inplace=True)"
   ]
  },
  {
   "cell_type": "code",
   "execution_count": 21,
   "metadata": {},
   "outputs": [
    {
     "data": {
      "text/plain": [
       "APP_Libelle_etablissement             0\n",
       "SIRET                                 0\n",
       "Code_postal                           0\n",
       "Libelle_commune                       0\n",
       "Numero_inspection                     0\n",
       "Date_inspection                       0\n",
       "APP_Libelle_activite_etablissement    0\n",
       "Synthese_eval_sanit                   0\n",
       "Agrement                              0\n",
       "geores                                0\n",
       "filtre                                0\n",
       "ods_type_activite                     0\n",
       "dtype: int64"
      ]
     },
     "execution_count": 21,
     "metadata": {},
     "output_type": "execute_result"
    }
   ],
   "source": [
    "df.isnull().sum()"
   ]
  },
  {
   "cell_type": "markdown",
   "metadata": {},
   "source": [
    "# Data preprocessing:"
   ]
  },
  {
   "cell_type": "markdown",
   "metadata": {},
   "source": [
    "# Data encoding for categorical variables:"
   ]
  },
  {
   "cell_type": "code",
   "execution_count": 22,
   "metadata": {},
   "outputs": [],
   "source": [
    "encoded=df[['APP_Libelle_etablissement', 'SIRET', 'Code_postal', 'Libelle_commune',\n",
    "       'Numero_inspection', 'Date_inspection',\n",
    "       'APP_Libelle_activite_etablissement', 'Synthese_eval_sanit', 'Agrement',\n",
    "       'geores', 'filtre', 'ods_type_activite']].apply(LabelEncoder().fit_transform)"
   ]
  },
  {
   "cell_type": "code",
   "execution_count": 23,
   "metadata": {},
   "outputs": [],
   "source": [
    "# Adding both the dataframes encoded and remaining (without encoding)\n",
    "data =pd.concat([encoded], axis=1)"
   ]
  },
  {
   "cell_type": "code",
   "execution_count": 24,
   "metadata": {},
   "outputs": [
    {
     "data": {
      "text/html": [
       "<div>\n",
       "<style scoped>\n",
       "    .dataframe tbody tr th:only-of-type {\n",
       "        vertical-align: middle;\n",
       "    }\n",
       "\n",
       "    .dataframe tbody tr th {\n",
       "        vertical-align: top;\n",
       "    }\n",
       "\n",
       "    .dataframe thead th {\n",
       "        text-align: right;\n",
       "    }\n",
       "</style>\n",
       "<table border=\"1\" class=\"dataframe\">\n",
       "  <thead>\n",
       "    <tr style=\"text-align: right;\">\n",
       "      <th></th>\n",
       "      <th>APP_Libelle_etablissement</th>\n",
       "      <th>SIRET</th>\n",
       "      <th>Code_postal</th>\n",
       "      <th>Libelle_commune</th>\n",
       "      <th>Numero_inspection</th>\n",
       "      <th>Date_inspection</th>\n",
       "      <th>APP_Libelle_activite_etablissement</th>\n",
       "      <th>Synthese_eval_sanit</th>\n",
       "      <th>Agrement</th>\n",
       "      <th>geores</th>\n",
       "      <th>filtre</th>\n",
       "      <th>ods_type_activite</th>\n",
       "    </tr>\n",
       "  </thead>\n",
       "  <tbody>\n",
       "    <tr>\n",
       "      <th>0</th>\n",
       "      <td>18097</td>\n",
       "      <td>3226</td>\n",
       "      <td>4611</td>\n",
       "      <td>1257</td>\n",
       "      <td>498</td>\n",
       "      <td>114</td>\n",
       "      <td>1</td>\n",
       "      <td>3</td>\n",
       "      <td>5386</td>\n",
       "      <td>16397</td>\n",
       "      <td>0</td>\n",
       "      <td>1</td>\n",
       "    </tr>\n",
       "    <tr>\n",
       "      <th>1</th>\n",
       "      <td>18096</td>\n",
       "      <td>3219</td>\n",
       "      <td>4622</td>\n",
       "      <td>5483</td>\n",
       "      <td>1265</td>\n",
       "      <td>231</td>\n",
       "      <td>1</td>\n",
       "      <td>2</td>\n",
       "      <td>5386</td>\n",
       "      <td>21291</td>\n",
       "      <td>0</td>\n",
       "      <td>1</td>\n",
       "    </tr>\n",
       "    <tr>\n",
       "      <th>2</th>\n",
       "      <td>18097</td>\n",
       "      <td>3215</td>\n",
       "      <td>4619</td>\n",
       "      <td>6016</td>\n",
       "      <td>671</td>\n",
       "      <td>140</td>\n",
       "      <td>1</td>\n",
       "      <td>3</td>\n",
       "      <td>5386</td>\n",
       "      <td>20326</td>\n",
       "      <td>0</td>\n",
       "      <td>1</td>\n",
       "    </tr>\n",
       "    <tr>\n",
       "      <th>3</th>\n",
       "      <td>12946</td>\n",
       "      <td>3273</td>\n",
       "      <td>4666</td>\n",
       "      <td>6314</td>\n",
       "      <td>1363</td>\n",
       "      <td>263</td>\n",
       "      <td>1</td>\n",
       "      <td>3</td>\n",
       "      <td>5386</td>\n",
       "      <td>16334</td>\n",
       "      <td>0</td>\n",
       "      <td>1</td>\n",
       "    </tr>\n",
       "    <tr>\n",
       "      <th>4</th>\n",
       "      <td>18097</td>\n",
       "      <td>3225</td>\n",
       "      <td>4619</td>\n",
       "      <td>6016</td>\n",
       "      <td>560</td>\n",
       "      <td>126</td>\n",
       "      <td>1</td>\n",
       "      <td>3</td>\n",
       "      <td>5386</td>\n",
       "      <td>18984</td>\n",
       "      <td>0</td>\n",
       "      <td>1</td>\n",
       "    </tr>\n",
       "  </tbody>\n",
       "</table>\n",
       "</div>"
      ],
      "text/plain": [
       "   APP_Libelle_etablissement  SIRET  Code_postal  Libelle_commune  \\\n",
       "0                      18097   3226         4611             1257   \n",
       "1                      18096   3219         4622             5483   \n",
       "2                      18097   3215         4619             6016   \n",
       "3                      12946   3273         4666             6314   \n",
       "4                      18097   3225         4619             6016   \n",
       "\n",
       "   Numero_inspection  Date_inspection  APP_Libelle_activite_etablissement  \\\n",
       "0                498              114                                   1   \n",
       "1               1265              231                                   1   \n",
       "2                671              140                                   1   \n",
       "3               1363              263                                   1   \n",
       "4                560              126                                   1   \n",
       "\n",
       "   Synthese_eval_sanit  Agrement  geores  filtre  ods_type_activite  \n",
       "0                    3      5386   16397       0                  1  \n",
       "1                    2      5386   21291       0                  1  \n",
       "2                    3      5386   20326       0                  1  \n",
       "3                    3      5386   16334       0                  1  \n",
       "4                    3      5386   18984       0                  1  "
      ]
     },
     "execution_count": 24,
     "metadata": {},
     "output_type": "execute_result"
    }
   ],
   "source": [
    "data.head()"
   ]
  },
  {
   "cell_type": "code",
   "execution_count": 25,
   "metadata": {},
   "outputs": [],
   "source": [
    "c2=data['Synthese_eval_sanit'].value_counts()"
   ]
  },
  {
   "cell_type": "code",
   "execution_count": 26,
   "metadata": {},
   "outputs": [
    {
     "data": {
      "text/plain": [
       "2    15575\n",
       "3    13334\n",
       "0     1780\n",
       "1      110\n",
       "Name: Synthese_eval_sanit, dtype: int64"
      ]
     },
     "execution_count": 26,
     "metadata": {},
     "output_type": "execute_result"
    }
   ],
   "source": [
    "#We can see the imbanlance class on our target with numerical value after use the encoding algorithm.\n",
    "#To perform our model we neeed to use the imbalanced learning before to apply Machine learning model for\n",
    "#Good classification with imblearn package.\n",
    "c2"
   ]
  },
  {
   "cell_type": "code",
   "execution_count": 27,
   "metadata": {},
   "outputs": [
    {
     "data": {
      "text/plain": [
       "<matplotlib.axes._subplots.AxesSubplot at 0x1518a6f86d0>"
      ]
     },
     "execution_count": 27,
     "metadata": {},
     "output_type": "execute_result"
    },
    {
     "data": {
      "image/png": "[encoded data removed]",
      "text/plain": [
       "<Figure size 432x288 with 1 Axes>"
      ]
     },
     "metadata": {
      "needs_background": "light"
     },
     "output_type": "display_data"
    }
   ],
   "source": [
    "data['Synthese_eval_sanit'].value_counts(normalize=False).plot(kind = 'bar', title = \"Evaluation synthesis of hygiene food\")"
   ]
  },
  {
   "cell_type": "code",
   "execution_count": 28,
   "metadata": {},
   "outputs": [
    {
     "data": {
      "text/plain": [
       "Index(['APP_Libelle_etablissement', 'SIRET', 'Code_postal', 'Libelle_commune',\n",
       "       'Numero_inspection', 'Date_inspection',\n",
       "       'APP_Libelle_activite_etablissement', 'Synthese_eval_sanit', 'Agrement',\n",
       "       'geores', 'filtre', 'ods_type_activite'],\n",
       "      dtype='object')"
      ]
     },
     "execution_count": 28,
     "metadata": {},
     "output_type": "execute_result"
    }
   ],
   "source": [
    "data.columns"
   ]
  },
  {
   "cell_type": "code",
   "execution_count": 29,
   "metadata": {},
   "outputs": [],
   "source": [
    "X=data[['APP_Libelle_etablissement', 'SIRET', 'Code_postal', 'Libelle_commune',\n",
    "       'Numero_inspection', 'Date_inspection',\n",
    "       'APP_Libelle_activite_etablissement', 'Agrement',\n",
    "       'geores', 'filtre', 'ods_type_activite']]"
   ]
  },
  {
   "cell_type": "code",
   "execution_count": 30,
   "metadata": {},
   "outputs": [],
   "source": [
    "y=data['Synthese_eval_sanit']"
   ]
  },
  {
   "cell_type": "markdown",
   "metadata": {},
   "source": [
    "# IMBALANCED LEARNING"
   ]
  },
  {
   "cell_type": "code",
   "execution_count": 31,
   "metadata": {},
   "outputs": [],
   "source": [
    "from imblearn.over_sampling import RandomOverSampler\n",
    "\n",
    "ros = RandomOverSampler()\n",
    "X_ros, y_ros = ros.fit_sample(X, y)\n"
   ]
  },
  {
   "cell_type": "code",
   "execution_count": 32,
   "metadata": {},
   "outputs": [
    {
     "name": "stdout",
     "output_type": "stream",
     "text": [
      "(62300, 11) (62300,)\n"
     ]
    }
   ],
   "source": [
    "print(X_ros.shape,y_ros.shape)"
   ]
  },
  {
   "cell_type": "code",
   "execution_count": 33,
   "metadata": {},
   "outputs": [
    {
     "data": {
      "text/plain": [
       "<matplotlib.axes._subplots.AxesSubplot at 0x1518aff1070>"
      ]
     },
     "execution_count": 33,
     "metadata": {},
     "output_type": "execute_result"
    },
    {
     "data": {
      "image/png": "[encoded data removed]",
      "text/plain": [
       "<Figure size 432x288 with 1 Axes>"
      ]
     },
     "metadata": {
      "needs_background": "light"
     },
     "output_type": "display_data"
    }
   ],
   "source": [
    "y_ros.value_counts(normalize=False).plot(kind = 'bar', title = \"Evaluation synthesis of hygiene food with imbalanced learning\")"
   ]
  },
  {
   "cell_type": "markdown",
   "metadata": {},
   "source": [
    "# Standard scaling:"
   ]
  },
  {
   "cell_type": "code",
   "execution_count": 34,
   "metadata": {},
   "outputs": [],
   "source": [
    "#Split data in training and testing sample with 70% for training and 30% for testing\n",
    "X_train, X_test, y_train, y_test = train_test_split(X_ros, y_ros, test_size = 0.3, random_state = 42)"
   ]
  },
  {
   "cell_type": "code",
   "execution_count": 35,
   "metadata": {},
   "outputs": [
    {
     "name": "stdout",
     "output_type": "stream",
     "text": [
      "(43610, 11) (18690, 11) (43610,) (18690,)\n"
     ]
    }
   ],
   "source": [
    "print(X_train.shape,X_test.shape,y_train.shape,y_test.shape)"
   ]
  },
  {
   "cell_type": "code",
   "execution_count": 36,
   "metadata": {},
   "outputs": [],
   "source": [
    "#Nous pouvons maintenant standardiser les variables, \n",
    "#c'est-à-dire les centrer (ramener leur moyenne à 0) \n",
    "#et les réduire (ramener leur écart-type à 1), \n",
    "#afin qu'elles se placent toutes à peu près sur la même échelle\n",
    "# standardiser les données\n",
    "std_scale = preprocessing.StandardScaler().fit(X_train)\n",
    "x_train_std = std_scale.transform(X_train)\n",
    "x_test_std = std_scale.transform(X_test)"
   ]
  },
  {
   "cell_type": "markdown",
   "metadata": {},
   "source": [
    "# MACHINE LEARNING MODEL"
   ]
  },
  {
   "cell_type": "markdown",
   "metadata": {},
   "source": [
    "# K Nearest Neighbors(KNN) MODEL"
   ]
  },
  {
   "cell_type": "code",
   "execution_count": 178,
   "metadata": {},
   "outputs": [
    {
     "data": {
      "text/plain": [
       "KNeighborsClassifier()"
      ]
     },
     "execution_count": 178,
     "metadata": {},
     "output_type": "execute_result"
    }
   ],
   "source": [
    "knn = KNeighborsClassifier()\n",
    "knn.fit(x_train_std,y_train)"
   ]
  },
  {
   "cell_type": "code",
   "execution_count": 179,
   "metadata": {},
   "outputs": [],
   "source": [
    "y_pred = knn.predict(x_test_std)"
   ]
  },
  {
   "cell_type": "code",
   "execution_count": 180,
   "metadata": {},
   "outputs": [
    {
     "data": {
      "text/plain": [
       "0.814813116257739"
      ]
     },
     "execution_count": 180,
     "metadata": {},
     "output_type": "execute_result"
    }
   ],
   "source": [
    "knn.score(x_train_std,y_train)"
   ]
  },
  {
   "cell_type": "code",
   "execution_count": 181,
   "metadata": {},
   "outputs": [
    {
     "data": {
      "text/plain": [
       "0.7380417335473515"
      ]
     },
     "execution_count": 181,
     "metadata": {},
     "output_type": "execute_result"
    }
   ],
   "source": [
    "knn.score(x_test_std,y_test)"
   ]
  },
  {
   "cell_type": "markdown",
   "metadata": {},
   "source": [
    "# KNN CROSS VALIDATION"
   ]
  },
  {
   "cell_type": "code",
   "execution_count": 182,
   "metadata": {},
   "outputs": [],
   "source": [
    "accuracy_train=cross_val_score(knn,x_train_std,y_train,cv=n_folds,scoring ='accuracy')\n",
    "\n",
    "accuracy_test=cross_val_score(knn,x_test_std,y_test,cv=n_folds,scoring ='accuracy')"
   ]
  },
  {
   "cell_type": "code",
   "execution_count": 183,
   "metadata": {},
   "outputs": [
    {
     "name": "stdout",
     "output_type": "stream",
     "text": [
      "0.7142627837651915\n"
     ]
    }
   ],
   "source": [
    "print(accuracy_train.mean())"
   ]
  },
  {
   "cell_type": "code",
   "execution_count": 184,
   "metadata": {},
   "outputs": [
    {
     "name": "stdout",
     "output_type": "stream",
     "text": [
      "0.6466559657570894\n"
     ]
    }
   ],
   "source": [
    "print(accuracy_test.mean())"
   ]
  },
  {
   "cell_type": "code",
   "execution_count": 40,
   "metadata": {},
   "outputs": [],
   "source": [
    "#CONFRONTATION ENTRE Y OBSERVEE SUR L ECHANTILLON TEST ET LA PREDICTION\n",
    "#PERMET DE VERIFIER SUR NOTRE CLASSIFICATION EST BONNE OU PAS ICI SCORE = VAL(matrixCONFUSION) DONC OK\n",
    "confusion_mtx1=confusion_matrix(y_test,y_pred)"
   ]
  },
  {
   "cell_type": "code",
   "execution_count": 41,
   "metadata": {},
   "outputs": [
    {
     "data": {
      "image/png": "[encoded data removed]",
      "text/plain": [
       "<Figure size 432x360 with 2 Axes>"
      ]
     },
     "metadata": {
      "needs_background": "light"
     },
     "output_type": "display_data"
    }
   ],
   "source": [
    "# plot the confusion matrix\n",
    "f,ax = plt.subplots(figsize=(6, 5))\n",
    "sns.heatmap(confusion_mtx1, annot=True, linewidths=0.01,cmap=\"Greens\",linecolor=\"gray\", fmt= '.1f',ax=ax)\n",
    "plt.xlabel(\"Predicted Label\")\n",
    "plt.ylabel(\"True Label\")\n",
    "plt.title(\"Confusion Matrix of K Nearest Neighbors(KNN) \")\n",
    "plt.show()"
   ]
  },
  {
   "cell_type": "code",
   "execution_count": 188,
   "metadata": {},
   "outputs": [
    {
     "name": "stdout",
     "output_type": "stream",
     "text": [
      "Results on the test set with K Nearest Neighbors:\n",
      "              precision    recall  f1-score   support\n",
      "\n",
      "           0       0.71      0.98      0.82      4694\n",
      "           1       0.98      1.00      0.99      4721\n",
      "           2       0.59      0.45      0.51      4610\n",
      "           3       0.62      0.51      0.56      4665\n",
      "\n",
      "    accuracy                           0.74     18690\n",
      "   macro avg       0.72      0.74      0.72     18690\n",
      "weighted avg       0.73      0.74      0.72     18690\n",
      "\n"
     ]
    }
   ],
   "source": [
    "from sklearn.metrics import classification_report,accuracy_score,confusion_matrix\n",
    "print('Results on the test set with K Nearest Neighbors:')\n",
    "print(classification_report(y_test, y_pred))"
   ]
  },
  {
   "cell_type": "markdown",
   "metadata": {},
   "source": [
    "# HYPERPARAMETER OF KNN MODEL"
   ]
  },
  {
   "cell_type": "code",
   "execution_count": 43,
   "metadata": {},
   "outputs": [],
   "source": [
    "#Performing cross validation\n",
    "neighbors = []\n",
    "cv_scores = []\n",
    "from sklearn.model_selection import cross_val_score\n",
    "#perform 5 fold cross validation\n",
    "for k in range(1,51,2):\n",
    "    neighbors.append(k)\n",
    "    knn = KNeighborsClassifier(n_neighbors = k)\n",
    "    scores = cross_val_score(knn,x_train_std,y_train,cv=5, scoring = 'accuracy')\n",
    "    cv_scores.append(scores.mean())"
   ]
  },
  {
   "cell_type": "code",
   "execution_count": 44,
   "metadata": {},
   "outputs": [
    {
     "name": "stdout",
     "output_type": "stream",
     "text": [
      "The optimal number of neighbors is 1 \n"
     ]
    },
    {
     "data": {
      "image/png": "[encoded data removed]",
      "text/plain": [
       "<Figure size 720x432 with 1 Axes>"
      ]
     },
     "metadata": {
      "needs_background": "light"
     },
     "output_type": "display_data"
    }
   ],
   "source": [
    "#Misclassification error versus k\n",
    "MSE = [1-x for x in cv_scores]\n",
    "\n",
    "#determining the best k\n",
    "optimal_k = neighbors[MSE.index(min(MSE))]\n",
    "print('The optimal number of neighbors is %d ' %optimal_k)\n",
    "\n",
    "#plot misclassification error versus k\n",
    "\n",
    "plt.figure(figsize = (10,6))\n",
    "plt.plot(neighbors, MSE)\n",
    "plt.xlabel('Number of neighbors')\n",
    "plt.ylabel('Misclassification Error')\n",
    "plt.show()"
   ]
  },
  {
   "cell_type": "code",
   "execution_count": 45,
   "metadata": {},
   "outputs": [
    {
     "data": {
      "text/plain": [
       "KNeighborsClassifier(n_neighbors=1)"
      ]
     },
     "execution_count": 45,
     "metadata": {},
     "output_type": "execute_result"
    }
   ],
   "source": [
    "knnhyp = KNeighborsClassifier(n_neighbors = 1)\n",
    "knnhyp.fit(x_train_std,y_train)"
   ]
  },
  {
   "cell_type": "code",
   "execution_count": 46,
   "metadata": {},
   "outputs": [
    {
     "name": "stdout",
     "output_type": "stream",
     "text": [
      "K Neightbors classifier Optimization train score: 1.0\n"
     ]
    }
   ],
   "source": [
    "scores =knnhyp.score(x_train_std,y_train)\n",
    "print('K Neightbors classifier Optimization train score: ' + str(scores))"
   ]
  },
  {
   "cell_type": "code",
   "execution_count": 47,
   "metadata": {},
   "outputs": [
    {
     "name": "stdout",
     "output_type": "stream",
     "text": [
      "K Neightbors classifierclassifier Optimization test score: 0.7986623863028357\n"
     ]
    }
   ],
   "source": [
    "scores = knnhyp.score(x_test_std, y_test)\n",
    "print('K Neightbors classifierclassifier Optimization test score: ' + str(scores))"
   ]
  },
  {
   "cell_type": "markdown",
   "metadata": {},
   "source": [
    "# KNN CROSS VALIDATION WITH HYPERPARAMETER VALUE"
   ]
  },
  {
   "cell_type": "code",
   "execution_count": 185,
   "metadata": {},
   "outputs": [],
   "source": [
    "accuracy_train=cross_val_score(knnhyp,x_train_std,y_train,cv=n_folds,scoring ='accuracy')\n",
    "\n",
    "accuracy_test=cross_val_score(knnhyp,x_test_std,y_test,cv=n_folds,scoring ='accuracy')"
   ]
  },
  {
   "cell_type": "code",
   "execution_count": 186,
   "metadata": {},
   "outputs": [
    {
     "name": "stdout",
     "output_type": "stream",
     "text": [
      "0.7843384544829168\n"
     ]
    }
   ],
   "source": [
    "print(accuracy_train.mean())"
   ]
  },
  {
   "cell_type": "code",
   "execution_count": 187,
   "metadata": {},
   "outputs": [
    {
     "name": "stdout",
     "output_type": "stream",
     "text": [
      "0.7254146602461209\n"
     ]
    }
   ],
   "source": [
    "print(accuracy_test.mean())"
   ]
  },
  {
   "cell_type": "code",
   "execution_count": 48,
   "metadata": {},
   "outputs": [],
   "source": [
    "y_predknn = knnhyp.predict(x_test_std)"
   ]
  },
  {
   "cell_type": "code",
   "execution_count": 49,
   "metadata": {},
   "outputs": [],
   "source": [
    "#CONFRONTATION ENTRE Y OBSERVEE SUR L ECHANTILLON TEST ET LA PREDICTION\n",
    "#PERMET DE VERIFIER SUR NOTRE CLASSIFICATION EST BONNE OU PAS ICI SCORE = VAL(matrixCONFUSION) DONC OK\n",
    "confusion_mtx1HYPOPT=confusion_matrix(y_test,y_predknn)"
   ]
  },
  {
   "cell_type": "code",
   "execution_count": 50,
   "metadata": {},
   "outputs": [
    {
     "data": {
      "image/png": "[encoded data removed]",
      "text/plain": [
       "<Figure size 432x360 with 2 Axes>"
      ]
     },
     "metadata": {
      "needs_background": "light"
     },
     "output_type": "display_data"
    }
   ],
   "source": [
    "# plot the confusion matrix\n",
    "f,ax = plt.subplots(figsize=(6, 5))\n",
    "sns.heatmap(confusion_mtx1HYPOPT, annot=True, linewidths=0.01,cmap=\"Greens\",linecolor=\"gray\", fmt= '.1f',ax=ax)\n",
    "plt.xlabel(\"Predicted Label\")\n",
    "plt.ylabel(\"True Label\")\n",
    "plt.title(\"Confusion Matrix of K Nearest Neighbors(KNN) \")\n",
    "plt.show()"
   ]
  },
  {
   "cell_type": "code",
   "execution_count": 189,
   "metadata": {},
   "outputs": [
    {
     "name": "stdout",
     "output_type": "stream",
     "text": [
      "Results on the test set with hyperparameter with K nearest Neighbors:\n",
      "              precision    recall  f1-score   support\n",
      "\n",
      "           0       0.89      1.00      0.94      4694\n",
      "           1       0.99      1.00      1.00      4721\n",
      "           2       0.63      0.56      0.59      4610\n",
      "           3       0.64      0.63      0.63      4665\n",
      "\n",
      "    accuracy                           0.80     18690\n",
      "   macro avg       0.79      0.80      0.79     18690\n",
      "weighted avg       0.79      0.80      0.79     18690\n",
      "\n"
     ]
    }
   ],
   "source": [
    "from sklearn.metrics import classification_report,accuracy_score,confusion_matrix\n",
    "print('Results on the test set with hyperparameter with K nearest Neighbors:')\n",
    "print(classification_report(y_test, y_predknn))"
   ]
  },
  {
   "cell_type": "markdown",
   "metadata": {},
   "source": [
    "# GRADIENT  BOOSTING CLASSIFIER MODEL"
   ]
  },
  {
   "cell_type": "code",
   "execution_count": 37,
   "metadata": {},
   "outputs": [
    {
     "data": {
      "text/plain": [
       "GradientBoostingClassifier()"
      ]
     },
     "execution_count": 37,
     "metadata": {},
     "output_type": "execute_result"
    }
   ],
   "source": [
    "from sklearn.ensemble import GradientBoostingClassifier\n",
    "modelgb = GradientBoostingClassifier()\n",
    "\n",
    "modelgb.fit(x_train_std,y_train)"
   ]
  },
  {
   "cell_type": "code",
   "execution_count": 38,
   "metadata": {},
   "outputs": [
    {
     "name": "stdout",
     "output_type": "stream",
     "text": [
      "Gradient boosting classifier train score: 0.6401742719559734\n"
     ]
    }
   ],
   "source": [
    "scores = modelgb.score(x_train_std,y_train)\n",
    "print('Gradient boosting classifier train score: ' + str(scores))"
   ]
  },
  {
   "cell_type": "code",
   "execution_count": 39,
   "metadata": {},
   "outputs": [
    {
     "name": "stdout",
     "output_type": "stream",
     "text": [
      "Gradient boosting classifier test score: 0.6234349919743178\n"
     ]
    }
   ],
   "source": [
    "scores = modelgb.score(x_test_std, y_test)\n",
    "print('Gradient boosting classifier test score: ' + str(scores))"
   ]
  },
  {
   "cell_type": "markdown",
   "metadata": {},
   "source": [
    "# Gradient boosting cross validation:"
   ]
  },
  {
   "cell_type": "code",
   "execution_count": 193,
   "metadata": {},
   "outputs": [],
   "source": [
    "accuracy_train=cross_val_score(modelgb,x_train_std,y_train,cv=n_folds,scoring ='accuracy')\n",
    "\n",
    "accuracy_test=cross_val_score(modelgb,x_test_std,y_test,cv=n_folds,scoring ='accuracy')"
   ]
  },
  {
   "cell_type": "code",
   "execution_count": 194,
   "metadata": {},
   "outputs": [
    {
     "name": "stdout",
     "output_type": "stream",
     "text": [
      "0.6304975922953451\n"
     ]
    }
   ],
   "source": [
    "print(accuracy_train.mean())"
   ]
  },
  {
   "cell_type": "code",
   "execution_count": 195,
   "metadata": {},
   "outputs": [
    {
     "name": "stdout",
     "output_type": "stream",
     "text": [
      "0.6267522739432853\n"
     ]
    }
   ],
   "source": [
    "print(accuracy_test.mean())"
   ]
  },
  {
   "cell_type": "code",
   "execution_count": 196,
   "metadata": {},
   "outputs": [],
   "source": [
    "predictions = modelgb.predict(x_test_std)"
   ]
  },
  {
   "cell_type": "code",
   "execution_count": 197,
   "metadata": {},
   "outputs": [],
   "source": [
    "from sklearn.metrics import confusion_matrix\n",
    "confusion_mtx2=confusion_matrix(y_test,predictions)"
   ]
  },
  {
   "cell_type": "code",
   "execution_count": 198,
   "metadata": {},
   "outputs": [
    {
     "data": {
      "image/png": "[encoded data removed]",
      "text/plain": [
       "<Figure size 432x360 with 2 Axes>"
      ]
     },
     "metadata": {
      "needs_background": "light"
     },
     "output_type": "display_data"
    }
   ],
   "source": [
    "# plot the confusion matrix\n",
    "f,ax = plt.subplots(figsize=(6, 5))\n",
    "sns.heatmap(confusion_mtx2, annot=True, linewidths=0.01,cmap=\"Greens\",linecolor=\"gray\", fmt= '.1f',ax=ax)\n",
    "plt.xlabel(\"Predicted Label\")\n",
    "plt.ylabel(\"True Label\")\n",
    "plt.title(\"Confusion Matrix Gradient Boosting Classifier\")\n",
    "plt.show()"
   ]
  },
  {
   "cell_type": "code",
   "execution_count": 199,
   "metadata": {},
   "outputs": [
    {
     "name": "stdout",
     "output_type": "stream",
     "text": [
      "Results on the test set with gradient Boosting:\n",
      "              precision    recall  f1-score   support\n",
      "\n",
      "           0       0.60      0.54      0.57      4694\n",
      "           1       0.86      0.94      0.90      4721\n",
      "           2       0.46      0.43      0.45      4610\n",
      "           3       0.54      0.57      0.55      4665\n",
      "\n",
      "    accuracy                           0.62     18690\n",
      "   macro avg       0.61      0.62      0.62     18690\n",
      "weighted avg       0.61      0.62      0.62     18690\n",
      "\n"
     ]
    }
   ],
   "source": [
    "from sklearn.metrics import classification_report,accuracy_score,confusion_matrix\n",
    "print('Results on the test set with gradient Boosting:')\n",
    "print(classification_report(y_test,predictions))"
   ]
  },
  {
   "cell_type": "markdown",
   "metadata": {},
   "source": [
    "# HYPERPARAMETER OF GRADIENT BOOSTING CLASSIFIER"
   ]
  },
  {
   "cell_type": "code",
   "execution_count": 200,
   "metadata": {},
   "outputs": [],
   "source": [
    "# get a list of models to evaluate\n",
    "def get_models():\n",
    "    models = dict()\n",
    "    # define number of trees to consider\n",
    "    n_trees = [10, 50, 100, 500, 1000, 5000,10000]\n",
    "    for n in n_trees:\n",
    "        models[str(n)] = GradientBoostingClassifier(n_estimators=n)\n",
    "    return models"
   ]
  },
  {
   "cell_type": "code",
   "execution_count": 201,
   "metadata": {},
   "outputs": [],
   "source": [
    "\n",
    "def evaluate_model(model, X, y):\n",
    "    # define the evaluation procedure\n",
    "    cv = RepeatedStratifiedKFold(n_splits=5, n_repeats=3, random_state=1)\n",
    "    # evaluate the model and collect the results\n",
    "    scores = cross_val_score(model, X, y, scoring='accuracy', cv=cv, n_jobs=-1)\n",
    "    return scores"
   ]
  },
  {
   "cell_type": "code",
   "execution_count": 202,
   "metadata": {},
   "outputs": [
    {
     "name": "stdout",
     "output_type": "stream",
     "text": [
      ">10 0.489 (0.009)\n",
      ">50 0.576 (0.007)\n",
      ">100 0.627 (0.005)\n",
      ">500 0.708 (0.005)\n",
      ">1000 0.735 (0.006)\n",
      ">5000 0.774 (0.005)\n",
      ">10000 0.773 (0.005)\n"
     ]
    },
    {
     "data": {
      "image/png": "[encoded data removed]",
      "text/plain": [
       "<Figure size 432x288 with 1 Axes>"
      ]
     },
     "metadata": {
      "needs_background": "light"
     },
     "output_type": "display_data"
    }
   ],
   "source": [
    "# get the models to evaluate\n",
    "models = get_models()\n",
    "# evaluate the models and store results\n",
    "results, names = list(), list()\n",
    "for name, model in models.items():\n",
    "    # evaluate the model\n",
    "    scores = evaluate_model(model, x_test_std, y_test)\n",
    "    # store the results\n",
    "    results.append(scores)\n",
    "    names.append(name)\n",
    "    # summarize the performance along the way\n",
    "    print('>%s %.3f (%.3f)' % (name, mean(scores), std(scores)))\n",
    "# plot model performance for comparison\n",
    "pyplot.boxplot(results, labels=names, showmeans=True)\n",
    "pyplot.show()"
   ]
  },
  {
   "cell_type": "code",
   "execution_count": 203,
   "metadata": {},
   "outputs": [
    {
     "data": {
      "text/plain": [
       "GradientBoostingClassifier(n_estimators=10000)"
      ]
     },
     "execution_count": 203,
     "metadata": {},
     "output_type": "execute_result"
    }
   ],
   "source": [
    "modelgbhpop = GradientBoostingClassifier(n_estimators=10000)\n",
    "\n",
    "modelgbhpop.fit(x_train_std,y_train)"
   ]
  },
  {
   "cell_type": "code",
   "execution_count": 204,
   "metadata": {},
   "outputs": [
    {
     "name": "stdout",
     "output_type": "stream",
     "text": [
      "Gradient boosting classifier Optimization train score: 0.997133684934648\n"
     ]
    }
   ],
   "source": [
    "scores = modelgbhpop.score(x_train_std,y_train)\n",
    "print('Gradient boosting classifier Optimization train score: ' + str(scores))"
   ]
  },
  {
   "cell_type": "code",
   "execution_count": 205,
   "metadata": {},
   "outputs": [
    {
     "name": "stdout",
     "output_type": "stream",
     "text": [
      "Gradient boosting classifier Optimization test score: 0.8460139111824505\n"
     ]
    }
   ],
   "source": [
    "scores = modelgbhpop.score(x_test_std, y_test)\n",
    "print('Gradient boosting classifier Optimization test score: ' + str(scores))"
   ]
  },
  {
   "cell_type": "markdown",
   "metadata": {},
   "source": [
    "# GRADIENT BOOSTING CROSS VALIDATION WITH HYPERPARAMETER"
   ]
  },
  {
   "cell_type": "code",
   "execution_count": 206,
   "metadata": {},
   "outputs": [],
   "source": [
    "accuracy_train=cross_val_score(modelgbhpop,x_train_std,y_train,cv=n_folds,scoring ='accuracy')\n",
    "\n",
    "accuracy_test=cross_val_score(modelgbhpop,x_test_std,y_test,cv=n_folds,scoring ='accuracy')"
   ]
  },
  {
   "cell_type": "code",
   "execution_count": 207,
   "metadata": {},
   "outputs": [
    {
     "name": "stdout",
     "output_type": "stream",
     "text": [
      "0.8343269892226554\n"
     ]
    }
   ],
   "source": [
    "print(accuracy_train.mean())"
   ]
  },
  {
   "cell_type": "code",
   "execution_count": 208,
   "metadata": {},
   "outputs": [
    {
     "name": "stdout",
     "output_type": "stream",
     "text": [
      "0.7732477260567149\n"
     ]
    }
   ],
   "source": [
    "print(accuracy_test.mean())"
   ]
  },
  {
   "cell_type": "code",
   "execution_count": 209,
   "metadata": {},
   "outputs": [],
   "source": [
    "y_predbosting = modelgbhpop.predict(x_test_std)"
   ]
  },
  {
   "cell_type": "code",
   "execution_count": 210,
   "metadata": {},
   "outputs": [],
   "source": [
    "from sklearn.metrics import confusion_matrix\n",
    "confusion_mtx2hypopt=confusion_matrix(y_test,y_predbosting)"
   ]
  },
  {
   "cell_type": "code",
   "execution_count": 211,
   "metadata": {},
   "outputs": [
    {
     "data": {
      "image/png": "[encoded data removed]",
      "text/plain": [
       "<Figure size 432x360 with 2 Axes>"
      ]
     },
     "metadata": {
      "needs_background": "light"
     },
     "output_type": "display_data"
    }
   ],
   "source": [
    "# plot the confusion matrix\n",
    "f,ax = plt.subplots(figsize=(6, 5))\n",
    "sns.heatmap(confusion_mtx2hypopt, annot=True, linewidths=0.01,cmap=\"Greens\",linecolor=\"gray\", fmt= '.1f',ax=ax)\n",
    "plt.xlabel(\"Predicted Label\")\n",
    "plt.ylabel(\"True Label\")\n",
    "plt.title(\"Confusion Matrix Gradient Boosting Classifier with hyperparameter\")\n",
    "plt.show()"
   ]
  },
  {
   "cell_type": "code",
   "execution_count": 212,
   "metadata": {},
   "outputs": [
    {
     "name": "stdout",
     "output_type": "stream",
     "text": [
      "Results on the test set with hyperparameter with Gradient Boosting:\n",
      "              precision    recall  f1-score   support\n",
      "\n",
      "           0       0.92      1.00      0.96      4694\n",
      "           1       1.00      1.00      1.00      4721\n",
      "           2       0.72      0.66      0.69      4610\n",
      "           3       0.72      0.72      0.72      4665\n",
      "\n",
      "    accuracy                           0.85     18690\n",
      "   macro avg       0.84      0.84      0.84     18690\n",
      "weighted avg       0.84      0.85      0.84     18690\n",
      "\n"
     ]
    }
   ],
   "source": [
    "from sklearn.metrics import classification_report,accuracy_score,confusion_matrix\n",
    "print('Results on the test set with hyperparameter with Gradient Boosting:')\n",
    "print(classification_report(y_test, y_predbosting))"
   ]
  },
  {
   "cell_type": "markdown",
   "metadata": {},
   "source": [
    "# RANDOM FOREST CLASSIFIER"
   ]
  },
  {
   "cell_type": "code",
   "execution_count": 213,
   "metadata": {},
   "outputs": [
    {
     "data": {
      "text/plain": [
       "RandomForestClassifier()"
      ]
     },
     "execution_count": 213,
     "metadata": {},
     "output_type": "execute_result"
    }
   ],
   "source": [
    "model = RandomForestClassifier(n_estimators=100)\n",
    "model.fit(x_train_std, y_train)"
   ]
  },
  {
   "cell_type": "code",
   "execution_count": 214,
   "metadata": {},
   "outputs": [
    {
     "name": "stdout",
     "output_type": "stream",
     "text": [
      "Random Forest train score: 1.0\n"
     ]
    }
   ],
   "source": [
    "acc = model.score(x_train_std, y_train)\n",
    "print('Random Forest train score: ' + str(acc))"
   ]
  },
  {
   "cell_type": "code",
   "execution_count": 215,
   "metadata": {},
   "outputs": [
    {
     "name": "stdout",
     "output_type": "stream",
     "text": [
      "Random Forest test score: 0.8505082932049224\n"
     ]
    }
   ],
   "source": [
    "scores = model.score(x_test_std, y_test)\n",
    "print('Random Forest test score: ' + str(scores))"
   ]
  },
  {
   "cell_type": "markdown",
   "metadata": {},
   "source": [
    "# Random Forest Cross Validation Score:"
   ]
  },
  {
   "cell_type": "code",
   "execution_count": 216,
   "metadata": {},
   "outputs": [],
   "source": [
    "accuracy_train=cross_val_score(model,x_train_std,y_train,cv=n_folds,scoring ='accuracy')\n",
    "\n",
    "accuracy_test=cross_val_score(model,x_test_std,y_test,cv=n_folds,scoring ='accuracy')"
   ]
  },
  {
   "cell_type": "code",
   "execution_count": 217,
   "metadata": {},
   "outputs": [
    {
     "name": "stdout",
     "output_type": "stream",
     "text": [
      "0.8381105251089199\n"
     ]
    }
   ],
   "source": [
    "print(accuracy_train.mean())"
   ]
  },
  {
   "cell_type": "code",
   "execution_count": 218,
   "metadata": {},
   "outputs": [
    {
     "name": "stdout",
     "output_type": "stream",
     "text": [
      "0.7813804173354735\n"
     ]
    }
   ],
   "source": [
    "print(accuracy_test.mean())"
   ]
  },
  {
   "cell_type": "code",
   "execution_count": 219,
   "metadata": {},
   "outputs": [],
   "source": [
    "y_pred = model.predict(x_test_std)"
   ]
  },
  {
   "cell_type": "code",
   "execution_count": 220,
   "metadata": {},
   "outputs": [],
   "source": [
    "from sklearn.metrics import confusion_matrix\n",
    "confusion_mtx3=confusion_matrix(y_test,y_pred)"
   ]
  },
  {
   "cell_type": "code",
   "execution_count": 221,
   "metadata": {},
   "outputs": [
    {
     "data": {
      "image/png": "[encoded data removed]",
      "text/plain": [
       "<Figure size 432x360 with 2 Axes>"
      ]
     },
     "metadata": {
      "needs_background": "light"
     },
     "output_type": "display_data"
    }
   ],
   "source": [
    "# plot the confusion matrix\n",
    "f,ax = plt.subplots(figsize=(6, 5))\n",
    "sns.heatmap(confusion_mtx3, annot=True, linewidths=0.01,cmap=\"Greens\",linecolor=\"gray\", fmt= '.1f',ax=ax)\n",
    "plt.xlabel(\"Predicted Label\")\n",
    "plt.ylabel(\"True Label\")\n",
    "plt.title(\"Confusion Matrix of Random Forest Classifier\")\n",
    "plt.show()"
   ]
  },
  {
   "cell_type": "code",
   "execution_count": 222,
   "metadata": {},
   "outputs": [
    {
     "name": "stdout",
     "output_type": "stream",
     "text": [
      "Results on the test set with Random Forest :\n",
      "              precision    recall  f1-score   support\n",
      "\n",
      "           0       0.95      1.00      0.98      4694\n",
      "           1       1.00      1.00      1.00      4721\n",
      "           2       0.71      0.69      0.70      4610\n",
      "           3       0.72      0.71      0.72      4665\n",
      "\n",
      "    accuracy                           0.85     18690\n",
      "   macro avg       0.85      0.85      0.85     18690\n",
      "weighted avg       0.85      0.85      0.85     18690\n",
      "\n"
     ]
    }
   ],
   "source": [
    "print('Results on the test set with Random Forest :')\n",
    "print(classification_report(y_test, y_pred))"
   ]
  },
  {
   "cell_type": "markdown",
   "metadata": {},
   "source": [
    "# HYPERPARAMETER WITH GRID SEARCH CV OF RANDOM FOREST CLASSIFIER"
   ]
  },
  {
   "cell_type": "code",
   "execution_count": 223,
   "metadata": {},
   "outputs": [],
   "source": [
    "# TODO: Import 'GridSearchCV', 'make_scorer', and any other necessary libraries\n",
    "from sklearn.model_selection import GridSearchCV\n",
    "from sklearn.metrics import make_scorer, fbeta_score\n",
    "\n",
    "# TODO: Initialize the classifier\n",
    "rf = RandomForestClassifier()\n",
    "\n",
    "# TODO: Create the parameters list you wish to tune, using a dictionary if needed.\n",
    "# HINT: parameters = {'parameter_1': [value1, value2], 'parameter_2': [value1, value2]}\n",
    "parameters = {\n",
    "    'n_estimators': [50, 100, 200],\n",
    "    'min_samples_leaf': [1, 2, 4],\n",
    "    'min_samples_split': [2, 5, 10],\n",
    "}"
   ]
  },
  {
   "cell_type": "code",
   "execution_count": 224,
   "metadata": {},
   "outputs": [],
   "source": [
    "# TODO: Perform grid search on the classifier using 'scorer' as the scoring method using GridSearchCV()\n",
    "grid_obj = GridSearchCV(rf, parameters, cv=5)\n",
    "\n",
    "# TODO: Fit the grid search object to the training data and find the optimal parameters using fit()\n",
    "grid_fit = grid_obj.fit(x_train_std, y_train)"
   ]
  },
  {
   "cell_type": "code",
   "execution_count": 225,
   "metadata": {},
   "outputs": [
    {
     "name": "stdout",
     "output_type": "stream",
     "text": [
      "0.8398991057096996\n",
      "{'min_samples_leaf': 1, 'min_samples_split': 2, 'n_estimators': 100}\n",
      "RandomForestClassifier()\n"
     ]
    }
   ],
   "source": [
    "# How does one get the model with the best score?\n",
    "# There is a function by which you can call the best model by asking for the best score amongst all the scores produced.\n",
    "# grid.best_score_ gives the best score obtained by the grid search.\n",
    "# grid.best_params_ gives\n",
    "print(grid_fit.best_score_)\n",
    "print(grid_fit.best_params_)\n",
    "print(grid_fit.best_estimator_)"
   ]
  },
  {
   "cell_type": "code",
   "execution_count": 226,
   "metadata": {},
   "outputs": [
    {
     "data": {
      "text/plain": [
       "RandomForestClassifier(n_estimators=200)"
      ]
     },
     "execution_count": 226,
     "metadata": {},
     "output_type": "execute_result"
    }
   ],
   "source": [
    "modelhyp = RandomForestClassifier(bootstrap=True, class_weight=None, criterion='gini',\n",
    "                       max_depth=None, max_features='auto', max_leaf_nodes=None,\n",
    "                       min_impurity_decrease=0.0, min_impurity_split=None,\n",
    "                       min_samples_leaf=1, min_samples_split=2,\n",
    "                       min_weight_fraction_leaf=0.0, n_estimators=200,\n",
    "                       n_jobs=None, oob_score=False, random_state=None,\n",
    "                       verbose=0, warm_start=False)\n",
    "modelhyp.fit(x_train_std, y_train)"
   ]
  },
  {
   "cell_type": "code",
   "execution_count": 227,
   "metadata": {},
   "outputs": [
    {
     "name": "stdout",
     "output_type": "stream",
     "text": [
      "Random forest hyperparameter train score: 1.0\n"
     ]
    }
   ],
   "source": [
    "acc = modelhyp.score(x_train_std, y_train)\n",
    "print('Random forest hyperparameter train score: ' + str(acc))"
   ]
  },
  {
   "cell_type": "code",
   "execution_count": 228,
   "metadata": {},
   "outputs": [
    {
     "name": "stdout",
     "output_type": "stream",
     "text": [
      "Random forest hyperparameter train score: 0.8520599250936329\n"
     ]
    }
   ],
   "source": [
    "scores = modelhyp.score(x_test_std, y_test)\n",
    "print('Random forest hyperparameter train score: ' + str(scores))"
   ]
  },
  {
   "cell_type": "markdown",
   "metadata": {},
   "source": [
    "# RANDOM FOREST CROSS VALIDATION WITH HYPERPARAMETER"
   ]
  },
  {
   "cell_type": "code",
   "execution_count": 229,
   "metadata": {},
   "outputs": [],
   "source": [
    "accuracy_train=cross_val_score(modelhyp,x_train_std,y_train,cv=n_folds,scoring ='accuracy')\n",
    "\n",
    "accuracy_test=cross_val_score(modelhyp,x_test_std,y_test,cv=n_folds,scoring ='accuracy')"
   ]
  },
  {
   "cell_type": "code",
   "execution_count": 230,
   "metadata": {},
   "outputs": [
    {
     "name": "stdout",
     "output_type": "stream",
     "text": [
      "0.8417335473515248\n"
     ]
    }
   ],
   "source": [
    "print(accuracy_train.mean())"
   ]
  },
  {
   "cell_type": "code",
   "execution_count": 231,
   "metadata": {},
   "outputs": [
    {
     "name": "stdout",
     "output_type": "stream",
     "text": [
      "0.7819154628143392\n"
     ]
    }
   ],
   "source": [
    "print(accuracy_test.mean())"
   ]
  },
  {
   "cell_type": "code",
   "execution_count": 232,
   "metadata": {},
   "outputs": [],
   "source": [
    "y_pred2 = modelhyp.predict(x_test_std)"
   ]
  },
  {
   "cell_type": "code",
   "execution_count": 233,
   "metadata": {},
   "outputs": [],
   "source": [
    "from sklearn.metrics import confusion_matrix\n",
    "confusion_mtx3hypopt=confusion_matrix(y_test,y_pred2)"
   ]
  },
  {
   "cell_type": "code",
   "execution_count": 235,
   "metadata": {},
   "outputs": [
    {
     "name": "stdout",
     "output_type": "stream",
     "text": [
      "Results on the test set with hyperparameter with Random Forest:\n",
      "              precision    recall  f1-score   support\n",
      "\n",
      "           0       0.95      1.00      0.98      4694\n",
      "           1       1.00      1.00      1.00      4721\n",
      "           2       0.72      0.69      0.70      4610\n",
      "           3       0.72      0.72      0.72      4665\n",
      "\n",
      "    accuracy                           0.85     18690\n",
      "   macro avg       0.85      0.85      0.85     18690\n",
      "weighted avg       0.85      0.85      0.85     18690\n",
      "\n"
     ]
    }
   ],
   "source": [
    "from sklearn.metrics import classification_report,accuracy_score,confusion_matrix\n",
    "print('Results on the test set with hyperparameter with Random Forest:')\n",
    "print(classification_report(y_test, y_pred2))"
   ]
  },
  {
   "cell_type": "markdown",
   "metadata": {},
   "source": [
    "# NEURAL NETWORK"
   ]
  },
  {
   "cell_type": "code",
   "execution_count": 37,
   "metadata": {},
   "outputs": [
    {
     "name": "stderr",
     "output_type": "stream",
     "text": [
      "C:\\Users\\couli\\anaconda3\\lib\\site-packages\\sklearn\\neural_network\\_multilayer_perceptron.py:582: ConvergenceWarning: Stochastic Optimizer: Maximum iterations (200) reached and the optimization hasn't converged yet.\n",
      "  warnings.warn(\n"
     ]
    },
    {
     "data": {
      "text/plain": [
       "MLPClassifier()"
      ]
     },
     "execution_count": 37,
     "metadata": {},
     "output_type": "execute_result"
    }
   ],
   "source": [
    "nn = MLPClassifier()\n",
    "nn.fit(x_train_std,y_train)"
   ]
  },
  {
   "cell_type": "code",
   "execution_count": 38,
   "metadata": {},
   "outputs": [
    {
     "name": "stdout",
     "output_type": "stream",
     "text": [
      "neural network train score: 0.6445310708553084\n"
     ]
    }
   ],
   "source": [
    "acc = nn.score(x_train_std, y_train)\n",
    "print('neural network train score: ' + str(acc))"
   ]
  },
  {
   "cell_type": "code",
   "execution_count": 39,
   "metadata": {},
   "outputs": [
    {
     "name": "stdout",
     "output_type": "stream",
     "text": [
      "neural network test score: 0.6310861423220974\n"
     ]
    }
   ],
   "source": [
    "scores = nn.score(x_test_std, y_test)\n",
    "print('neural network test score: ' + str(scores))"
   ]
  },
  {
   "cell_type": "code",
   "execution_count": 40,
   "metadata": {},
   "outputs": [],
   "source": [
    "y_predNN = nn.predict(x_test_std)"
   ]
  },
  {
   "cell_type": "code",
   "execution_count": 41,
   "metadata": {},
   "outputs": [],
   "source": [
    "from sklearn.metrics import confusion_matrix\n",
    "confusion_mtx4=confusion_matrix(y_test,y_predNN)"
   ]
  },
  {
   "cell_type": "code",
   "execution_count": 42,
   "metadata": {},
   "outputs": [
    {
     "data": {
      "image/png": "[encoded data removed]",
      "text/plain": [
       "<Figure size 576x360 with 2 Axes>"
      ]
     },
     "metadata": {
      "needs_background": "light"
     },
     "output_type": "display_data"
    }
   ],
   "source": [
    "# plot the confusion matrix\n",
    "f,ax = plt.subplots(figsize=(8, 5))\n",
    "sns.heatmap(confusion_mtx4, annot=True, linewidths=0.01,cmap=\"Greens\",linecolor=\"gray\", fmt= '.1f',ax=ax)\n",
    "plt.xlabel(\"Predicted Label\")\n",
    "plt.ylabel(\"True Label\")\n",
    "plt.title(\"Confusion Matrix of NEURAL NETWORK\")\n",
    "plt.show()"
   ]
  },
  {
   "cell_type": "markdown",
   "metadata": {},
   "source": [
    "# Neural Network Cross Validation score:"
   ]
  },
  {
   "cell_type": "code",
   "execution_count": 43,
   "metadata": {},
   "outputs": [
    {
     "name": "stderr",
     "output_type": "stream",
     "text": [
      "C:\\Users\\couli\\anaconda3\\lib\\site-packages\\sklearn\\neural_network\\_multilayer_perceptron.py:582: ConvergenceWarning: Stochastic Optimizer: Maximum iterations (200) reached and the optimization hasn't converged yet.\n",
      "  warnings.warn(\n",
      "C:\\Users\\couli\\anaconda3\\lib\\site-packages\\sklearn\\neural_network\\_multilayer_perceptron.py:582: ConvergenceWarning: Stochastic Optimizer: Maximum iterations (200) reached and the optimization hasn't converged yet.\n",
      "  warnings.warn(\n",
      "C:\\Users\\couli\\anaconda3\\lib\\site-packages\\sklearn\\neural_network\\_multilayer_perceptron.py:582: ConvergenceWarning: Stochastic Optimizer: Maximum iterations (200) reached and the optimization hasn't converged yet.\n",
      "  warnings.warn(\n",
      "C:\\Users\\couli\\anaconda3\\lib\\site-packages\\sklearn\\neural_network\\_multilayer_perceptron.py:582: ConvergenceWarning: Stochastic Optimizer: Maximum iterations (200) reached and the optimization hasn't converged yet.\n",
      "  warnings.warn(\n",
      "C:\\Users\\couli\\anaconda3\\lib\\site-packages\\sklearn\\neural_network\\_multilayer_perceptron.py:582: ConvergenceWarning: Stochastic Optimizer: Maximum iterations (200) reached and the optimization hasn't converged yet.\n",
      "  warnings.warn(\n",
      "C:\\Users\\couli\\anaconda3\\lib\\site-packages\\sklearn\\neural_network\\_multilayer_perceptron.py:582: ConvergenceWarning: Stochastic Optimizer: Maximum iterations (200) reached and the optimization hasn't converged yet.\n",
      "  warnings.warn(\n",
      "C:\\Users\\couli\\anaconda3\\lib\\site-packages\\sklearn\\neural_network\\_multilayer_perceptron.py:582: ConvergenceWarning: Stochastic Optimizer: Maximum iterations (200) reached and the optimization hasn't converged yet.\n",
      "  warnings.warn(\n",
      "C:\\Users\\couli\\anaconda3\\lib\\site-packages\\sklearn\\neural_network\\_multilayer_perceptron.py:582: ConvergenceWarning: Stochastic Optimizer: Maximum iterations (200) reached and the optimization hasn't converged yet.\n",
      "  warnings.warn(\n",
      "C:\\Users\\couli\\anaconda3\\lib\\site-packages\\sklearn\\neural_network\\_multilayer_perceptron.py:582: ConvergenceWarning: Stochastic Optimizer: Maximum iterations (200) reached and the optimization hasn't converged yet.\n",
      "  warnings.warn(\n",
      "C:\\Users\\couli\\anaconda3\\lib\\site-packages\\sklearn\\neural_network\\_multilayer_perceptron.py:582: ConvergenceWarning: Stochastic Optimizer: Maximum iterations (200) reached and the optimization hasn't converged yet.\n",
      "  warnings.warn(\n"
     ]
    }
   ],
   "source": [
    "accuracy_train=cross_val_score(nn,x_train_std,y_train,cv=n_folds,scoring ='accuracy')\n",
    "\n",
    "accuracy_test=cross_val_score(nn,x_test_std,y_test,cv=n_folds,scoring ='accuracy')"
   ]
  },
  {
   "cell_type": "code",
   "execution_count": 44,
   "metadata": {},
   "outputs": [
    {
     "name": "stdout",
     "output_type": "stream",
     "text": [
      "0.628640220132997\n"
     ]
    }
   ],
   "source": [
    "print(accuracy_train.mean())"
   ]
  },
  {
   "cell_type": "code",
   "execution_count": 45,
   "metadata": {},
   "outputs": [
    {
     "name": "stdout",
     "output_type": "stream",
     "text": [
      "0.6122525414660246\n"
     ]
    }
   ],
   "source": [
    "print(accuracy_test.mean())"
   ]
  },
  {
   "cell_type": "code",
   "execution_count": 46,
   "metadata": {},
   "outputs": [],
   "source": [
    "y_pred = nn.predict(x_test_std)"
   ]
  },
  {
   "cell_type": "code",
   "execution_count": 47,
   "metadata": {},
   "outputs": [
    {
     "name": "stdout",
     "output_type": "stream",
     "text": [
      "Results on the test set with Neural Network\n",
      "              precision    recall  f1-score   support\n",
      "\n",
      "           0       0.55      0.63      0.59      4694\n",
      "           1       0.95      1.00      0.97      4721\n",
      "           2       0.46      0.35      0.40      4610\n",
      "           3       0.52      0.54      0.53      4665\n",
      "\n",
      "    accuracy                           0.63     18690\n",
      "   macro avg       0.62      0.63      0.62     18690\n",
      "weighted avg       0.62      0.63      0.62     18690\n",
      "\n"
     ]
    }
   ],
   "source": [
    "from sklearn.metrics import classification_report,accuracy_score,confusion_matrix\n",
    "print('Results on the test set with Neural Network')\n",
    "print(classification_report(y_test, y_pred))"
   ]
  },
  {
   "cell_type": "markdown",
   "metadata": {},
   "source": [
    "# HYPERPARAMETER OF NEURAL NET WORK-Multi Layer Perceptron(MLP)"
   ]
  },
  {
   "cell_type": "code",
   "execution_count": 48,
   "metadata": {},
   "outputs": [],
   "source": [
    "parameter_space = {\n",
    "    'hidden_layer_sizes': [(50,50,50), (50,100,50), (100,)],\n",
    "    'activation': ['tanh', 'relu'],\n",
    "    'solver': ['sgd', 'adam'],\n",
    "    'alpha': [0.0001, 0.05],\n",
    "    'learning_rate': ['constant','adaptive'],\n",
    "}"
   ]
  },
  {
   "cell_type": "code",
   "execution_count": 49,
   "metadata": {},
   "outputs": [
    {
     "name": "stderr",
     "output_type": "stream",
     "text": [
      "C:\\Users\\couli\\anaconda3\\lib\\site-packages\\sklearn\\neural_network\\_multilayer_perceptron.py:582: ConvergenceWarning: Stochastic Optimizer: Maximum iterations (200) reached and the optimization hasn't converged yet.\n",
      "  warnings.warn(\n"
     ]
    },
    {
     "data": {
      "text/plain": [
       "GridSearchCV(cv=5, estimator=MLPClassifier(), n_jobs=-1,\n",
       "             param_grid={'activation': ['tanh', 'relu'],\n",
       "                         'alpha': [0.0001, 0.05],\n",
       "                         'hidden_layer_sizes': [(50, 50, 50), (50, 100, 50),\n",
       "                                                (100,)],\n",
       "                         'learning_rate': ['constant', 'adaptive'],\n",
       "                         'solver': ['sgd', 'adam']})"
      ]
     },
     "execution_count": 49,
     "metadata": {},
     "output_type": "execute_result"
    }
   ],
   "source": [
    "clf = GridSearchCV(nn, parameter_space, n_jobs=-1, cv=5)\n",
    "clf.fit(x_train_std, y_train)"
   ]
  },
  {
   "cell_type": "code",
   "execution_count": 50,
   "metadata": {},
   "outputs": [
    {
     "name": "stdout",
     "output_type": "stream",
     "text": [
      "Best parameters found:\n",
      " {'activation': 'tanh', 'alpha': 0.0001, 'hidden_layer_sizes': (50, 100, 50), 'learning_rate': 'adaptive', 'solver': 'adam'}\n"
     ]
    }
   ],
   "source": [
    "# Best paramete set\n",
    "print('Best parameters found:\\n', clf.best_params_)"
   ]
  },
  {
   "cell_type": "code",
   "execution_count": 51,
   "metadata": {},
   "outputs": [
    {
     "name": "stdout",
     "output_type": "stream",
     "text": [
      "0.624 (+/-0.010) for {'activation': 'tanh', 'alpha': 0.0001, 'hidden_layer_sizes': (50, 50, 50), 'learning_rate': 'constant', 'solver': 'sgd'}\n",
      "0.751 (+/-0.007) for {'activation': 'tanh', 'alpha': 0.0001, 'hidden_layer_sizes': (50, 50, 50), 'learning_rate': 'constant', 'solver': 'adam'}\n",
      "0.627 (+/-0.007) for {'activation': 'tanh', 'alpha': 0.0001, 'hidden_layer_sizes': (50, 50, 50), 'learning_rate': 'adaptive', 'solver': 'sgd'}\n",
      "0.753 (+/-0.015) for {'activation': 'tanh', 'alpha': 0.0001, 'hidden_layer_sizes': (50, 50, 50), 'learning_rate': 'adaptive', 'solver': 'adam'}\n",
      "0.627 (+/-0.009) for {'activation': 'tanh', 'alpha': 0.0001, 'hidden_layer_sizes': (50, 100, 50), 'learning_rate': 'constant', 'solver': 'sgd'}\n",
      "0.765 (+/-0.005) for {'activation': 'tanh', 'alpha': 0.0001, 'hidden_layer_sizes': (50, 100, 50), 'learning_rate': 'constant', 'solver': 'adam'}\n",
      "0.629 (+/-0.005) for {'activation': 'tanh', 'alpha': 0.0001, 'hidden_layer_sizes': (50, 100, 50), 'learning_rate': 'adaptive', 'solver': 'sgd'}\n",
      "0.767 (+/-0.006) for {'activation': 'tanh', 'alpha': 0.0001, 'hidden_layer_sizes': (50, 100, 50), 'learning_rate': 'adaptive', 'solver': 'adam'}\n",
      "0.551 (+/-0.011) for {'activation': 'tanh', 'alpha': 0.0001, 'hidden_layer_sizes': (100,), 'learning_rate': 'constant', 'solver': 'sgd'}\n",
      "0.646 (+/-0.009) for {'activation': 'tanh', 'alpha': 0.0001, 'hidden_layer_sizes': (100,), 'learning_rate': 'constant', 'solver': 'adam'}\n",
      "0.546 (+/-0.011) for {'activation': 'tanh', 'alpha': 0.0001, 'hidden_layer_sizes': (100,), 'learning_rate': 'adaptive', 'solver': 'sgd'}\n",
      "0.647 (+/-0.004) for {'activation': 'tanh', 'alpha': 0.0001, 'hidden_layer_sizes': (100,), 'learning_rate': 'adaptive', 'solver': 'adam'}\n",
      "0.621 (+/-0.013) for {'activation': 'tanh', 'alpha': 0.05, 'hidden_layer_sizes': (50, 50, 50), 'learning_rate': 'constant', 'solver': 'sgd'}\n",
      "0.731 (+/-0.010) for {'activation': 'tanh', 'alpha': 0.05, 'hidden_layer_sizes': (50, 50, 50), 'learning_rate': 'constant', 'solver': 'adam'}\n",
      "0.620 (+/-0.011) for {'activation': 'tanh', 'alpha': 0.05, 'hidden_layer_sizes': (50, 50, 50), 'learning_rate': 'adaptive', 'solver': 'sgd'}\n",
      "0.729 (+/-0.008) for {'activation': 'tanh', 'alpha': 0.05, 'hidden_layer_sizes': (50, 50, 50), 'learning_rate': 'adaptive', 'solver': 'adam'}\n",
      "0.628 (+/-0.004) for {'activation': 'tanh', 'alpha': 0.05, 'hidden_layer_sizes': (50, 100, 50), 'learning_rate': 'constant', 'solver': 'sgd'}\n",
      "0.756 (+/-0.013) for {'activation': 'tanh', 'alpha': 0.05, 'hidden_layer_sizes': (50, 100, 50), 'learning_rate': 'constant', 'solver': 'adam'}\n",
      "0.625 (+/-0.008) for {'activation': 'tanh', 'alpha': 0.05, 'hidden_layer_sizes': (50, 100, 50), 'learning_rate': 'adaptive', 'solver': 'sgd'}\n",
      "0.751 (+/-0.010) for {'activation': 'tanh', 'alpha': 0.05, 'hidden_layer_sizes': (50, 100, 50), 'learning_rate': 'adaptive', 'solver': 'adam'}\n",
      "0.544 (+/-0.015) for {'activation': 'tanh', 'alpha': 0.05, 'hidden_layer_sizes': (100,), 'learning_rate': 'constant', 'solver': 'sgd'}\n",
      "0.635 (+/-0.009) for {'activation': 'tanh', 'alpha': 0.05, 'hidden_layer_sizes': (100,), 'learning_rate': 'constant', 'solver': 'adam'}\n",
      "0.541 (+/-0.007) for {'activation': 'tanh', 'alpha': 0.05, 'hidden_layer_sizes': (100,), 'learning_rate': 'adaptive', 'solver': 'sgd'}\n",
      "0.632 (+/-0.008) for {'activation': 'tanh', 'alpha': 0.05, 'hidden_layer_sizes': (100,), 'learning_rate': 'adaptive', 'solver': 'adam'}\n",
      "0.637 (+/-0.006) for {'activation': 'relu', 'alpha': 0.0001, 'hidden_layer_sizes': (50, 50, 50), 'learning_rate': 'constant', 'solver': 'sgd'}\n",
      "0.725 (+/-0.012) for {'activation': 'relu', 'alpha': 0.0001, 'hidden_layer_sizes': (50, 50, 50), 'learning_rate': 'constant', 'solver': 'adam'}\n",
      "0.633 (+/-0.016) for {'activation': 'relu', 'alpha': 0.0001, 'hidden_layer_sizes': (50, 50, 50), 'learning_rate': 'adaptive', 'solver': 'sgd'}\n",
      "0.721 (+/-0.007) for {'activation': 'relu', 'alpha': 0.0001, 'hidden_layer_sizes': (50, 50, 50), 'learning_rate': 'adaptive', 'solver': 'adam'}\n",
      "0.650 (+/-0.015) for {'activation': 'relu', 'alpha': 0.0001, 'hidden_layer_sizes': (50, 100, 50), 'learning_rate': 'constant', 'solver': 'sgd'}\n",
      "0.745 (+/-0.012) for {'activation': 'relu', 'alpha': 0.0001, 'hidden_layer_sizes': (50, 100, 50), 'learning_rate': 'constant', 'solver': 'adam'}\n",
      "0.646 (+/-0.009) for {'activation': 'relu', 'alpha': 0.0001, 'hidden_layer_sizes': (50, 100, 50), 'learning_rate': 'adaptive', 'solver': 'sgd'}\n",
      "0.744 (+/-0.008) for {'activation': 'relu', 'alpha': 0.0001, 'hidden_layer_sizes': (50, 100, 50), 'learning_rate': 'adaptive', 'solver': 'adam'}\n",
      "0.568 (+/-0.007) for {'activation': 'relu', 'alpha': 0.0001, 'hidden_layer_sizes': (100,), 'learning_rate': 'constant', 'solver': 'sgd'}\n",
      "0.629 (+/-0.009) for {'activation': 'relu', 'alpha': 0.0001, 'hidden_layer_sizes': (100,), 'learning_rate': 'constant', 'solver': 'adam'}\n",
      "0.572 (+/-0.005) for {'activation': 'relu', 'alpha': 0.0001, 'hidden_layer_sizes': (100,), 'learning_rate': 'adaptive', 'solver': 'sgd'}\n",
      "0.626 (+/-0.004) for {'activation': 'relu', 'alpha': 0.0001, 'hidden_layer_sizes': (100,), 'learning_rate': 'adaptive', 'solver': 'adam'}\n",
      "0.631 (+/-0.012) for {'activation': 'relu', 'alpha': 0.05, 'hidden_layer_sizes': (50, 50, 50), 'learning_rate': 'constant', 'solver': 'sgd'}\n",
      "0.711 (+/-0.010) for {'activation': 'relu', 'alpha': 0.05, 'hidden_layer_sizes': (50, 50, 50), 'learning_rate': 'constant', 'solver': 'adam'}\n",
      "0.629 (+/-0.006) for {'activation': 'relu', 'alpha': 0.05, 'hidden_layer_sizes': (50, 50, 50), 'learning_rate': 'adaptive', 'solver': 'sgd'}\n",
      "0.708 (+/-0.014) for {'activation': 'relu', 'alpha': 0.05, 'hidden_layer_sizes': (50, 50, 50), 'learning_rate': 'adaptive', 'solver': 'adam'}\n",
      "0.644 (+/-0.005) for {'activation': 'relu', 'alpha': 0.05, 'hidden_layer_sizes': (50, 100, 50), 'learning_rate': 'constant', 'solver': 'sgd'}\n",
      "0.734 (+/-0.013) for {'activation': 'relu', 'alpha': 0.05, 'hidden_layer_sizes': (50, 100, 50), 'learning_rate': 'constant', 'solver': 'adam'}\n",
      "0.643 (+/-0.012) for {'activation': 'relu', 'alpha': 0.05, 'hidden_layer_sizes': (50, 100, 50), 'learning_rate': 'adaptive', 'solver': 'sgd'}\n",
      "0.733 (+/-0.009) for {'activation': 'relu', 'alpha': 0.05, 'hidden_layer_sizes': (50, 100, 50), 'learning_rate': 'adaptive', 'solver': 'adam'}\n",
      "0.569 (+/-0.007) for {'activation': 'relu', 'alpha': 0.05, 'hidden_layer_sizes': (100,), 'learning_rate': 'constant', 'solver': 'sgd'}\n",
      "0.624 (+/-0.011) for {'activation': 'relu', 'alpha': 0.05, 'hidden_layer_sizes': (100,), 'learning_rate': 'constant', 'solver': 'adam'}\n",
      "0.565 (+/-0.013) for {'activation': 'relu', 'alpha': 0.05, 'hidden_layer_sizes': (100,), 'learning_rate': 'adaptive', 'solver': 'sgd'}\n",
      "0.621 (+/-0.005) for {'activation': 'relu', 'alpha': 0.05, 'hidden_layer_sizes': (100,), 'learning_rate': 'adaptive', 'solver': 'adam'}\n"
     ]
    }
   ],
   "source": [
    "# All results\n",
    "means = clf.cv_results_['mean_test_score']\n",
    "stds = clf.cv_results_['std_test_score']\n",
    "for mean, std, params in zip(means, stds, clf.cv_results_['params']):\n",
    "    print(\"%0.3f (+/-%0.03f) for %r\" % (mean, std * 2, params))"
   ]
  },
  {
   "cell_type": "code",
   "execution_count": 52,
   "metadata": {},
   "outputs": [
    {
     "name": "stdout",
     "output_type": "stream",
     "text": [
      "0.7668424673240083\n"
     ]
    }
   ],
   "source": [
    "print(clf.best_score_)"
   ]
  },
  {
   "cell_type": "code",
   "execution_count": 53,
   "metadata": {},
   "outputs": [
    {
     "name": "stdout",
     "output_type": "stream",
     "text": [
      "Neural network hyperparameter train score: 0.8792708094473745\n"
     ]
    }
   ],
   "source": [
    "acc = clf.score(x_train_std, y_train)\n",
    "print('Neural network hyperparameter train score: ' + str(acc))"
   ]
  },
  {
   "cell_type": "code",
   "execution_count": 55,
   "metadata": {},
   "outputs": [
    {
     "name": "stdout",
     "output_type": "stream",
     "text": [
      "Neural network hyperparameter  test score: 0.7781701444622793\n"
     ]
    }
   ],
   "source": [
    "scores = clf.score(x_test_std, y_test)\n",
    "print('Neural network hyperparameter  test score: ' + str(scores))"
   ]
  },
  {
   "cell_type": "markdown",
   "metadata": {},
   "source": [
    "# NEURAL NETWORK CROSS VALIDATION SCORE WITH HYPERPARAMETER"
   ]
  },
  {
   "cell_type": "code",
   "execution_count": 56,
   "metadata": {},
   "outputs": [
    {
     "name": "stderr",
     "output_type": "stream",
     "text": [
      "C:\\Users\\couli\\anaconda3\\lib\\site-packages\\sklearn\\neural_network\\_multilayer_perceptron.py:582: ConvergenceWarning: Stochastic Optimizer: Maximum iterations (200) reached and the optimization hasn't converged yet.\n",
      "  warnings.warn(\n",
      "C:\\Users\\couli\\anaconda3\\lib\\site-packages\\sklearn\\neural_network\\_multilayer_perceptron.py:582: ConvergenceWarning: Stochastic Optimizer: Maximum iterations (200) reached and the optimization hasn't converged yet.\n",
      "  warnings.warn(\n",
      "C:\\Users\\couli\\anaconda3\\lib\\site-packages\\sklearn\\neural_network\\_multilayer_perceptron.py:582: ConvergenceWarning: Stochastic Optimizer: Maximum iterations (200) reached and the optimization hasn't converged yet.\n",
      "  warnings.warn(\n",
      "C:\\Users\\couli\\anaconda3\\lib\\site-packages\\sklearn\\neural_network\\_multilayer_perceptron.py:582: ConvergenceWarning: Stochastic Optimizer: Maximum iterations (200) reached and the optimization hasn't converged yet.\n",
      "  warnings.warn(\n",
      "C:\\Users\\couli\\anaconda3\\lib\\site-packages\\sklearn\\neural_network\\_multilayer_perceptron.py:582: ConvergenceWarning: Stochastic Optimizer: Maximum iterations (200) reached and the optimization hasn't converged yet.\n",
      "  warnings.warn(\n",
      "C:\\Users\\couli\\anaconda3\\lib\\site-packages\\sklearn\\neural_network\\_multilayer_perceptron.py:582: ConvergenceWarning: Stochastic Optimizer: Maximum iterations (200) reached and the optimization hasn't converged yet.\n",
      "  warnings.warn(\n",
      "C:\\Users\\couli\\anaconda3\\lib\\site-packages\\sklearn\\neural_network\\_multilayer_perceptron.py:582: ConvergenceWarning: Stochastic Optimizer: Maximum iterations (200) reached and the optimization hasn't converged yet.\n",
      "  warnings.warn(\n",
      "C:\\Users\\couli\\anaconda3\\lib\\site-packages\\sklearn\\neural_network\\_multilayer_perceptron.py:582: ConvergenceWarning: Stochastic Optimizer: Maximum iterations (200) reached and the optimization hasn't converged yet.\n",
      "  warnings.warn(\n",
      "C:\\Users\\couli\\anaconda3\\lib\\site-packages\\sklearn\\neural_network\\_multilayer_perceptron.py:582: ConvergenceWarning: Stochastic Optimizer: Maximum iterations (200) reached and the optimization hasn't converged yet.\n",
      "  warnings.warn(\n",
      "C:\\Users\\couli\\anaconda3\\lib\\site-packages\\sklearn\\neural_network\\_multilayer_perceptron.py:582: ConvergenceWarning: Stochastic Optimizer: Maximum iterations (200) reached and the optimization hasn't converged yet.\n",
      "  warnings.warn(\n"
     ]
    }
   ],
   "source": [
    "accuracy_train=cross_val_score(clf,x_train_std,y_train,cv=n_folds,scoring ='accuracy')\n",
    "\n",
    "accuracy_test=cross_val_score(clf,x_test_std,y_test,cv=n_folds,scoring ='accuracy')"
   ]
  },
  {
   "cell_type": "code",
   "execution_count": 57,
   "metadata": {},
   "outputs": [
    {
     "name": "stdout",
     "output_type": "stream",
     "text": [
      "0.7698463655124972\n"
     ]
    }
   ],
   "source": [
    "print(accuracy_train.mean())"
   ]
  },
  {
   "cell_type": "code",
   "execution_count": 58,
   "metadata": {},
   "outputs": [
    {
     "name": "stdout",
     "output_type": "stream",
     "text": [
      "0.7101123595505617\n"
     ]
    }
   ],
   "source": [
    "print(accuracy_test.mean())"
   ]
  },
  {
   "cell_type": "code",
   "execution_count": 59,
   "metadata": {},
   "outputs": [],
   "source": [
    "y_predNNHYP = clf.predict(x_test_std)"
   ]
  },
  {
   "cell_type": "code",
   "execution_count": 60,
   "metadata": {},
   "outputs": [],
   "source": [
    "from sklearn.metrics import confusion_matrix\n",
    "confusion_mtx4=confusion_matrix(y_test,y_predNNHYP)"
   ]
  },
  {
   "cell_type": "code",
   "execution_count": 63,
   "metadata": {},
   "outputs": [
    {
     "data": {
      "image/png": "[encoded data removed]",
      "text/plain": [
       "<Figure size 576x360 with 2 Axes>"
      ]
     },
     "metadata": {
      "needs_background": "light"
     },
     "output_type": "display_data"
    }
   ],
   "source": [
    "# plot the confusion matrix\n",
    "f,ax = plt.subplots(figsize=(8, 5))\n",
    "sns.heatmap(confusion_mtx4, annot=True, linewidths=0.01,cmap=\"Greens\",linecolor=\"gray\", fmt= '.1f',ax=ax)\n",
    "plt.xlabel(\"Predicted Label\")\n",
    "plt.ylabel(\"True Label\")\n",
    "plt.title(\"Confusion Matrix of NEURAL NETWORK\")\n",
    "plt.show()"
   ]
  },
  {
   "cell_type": "code",
   "execution_count": 62,
   "metadata": {},
   "outputs": [
    {
     "name": "stdout",
     "output_type": "stream",
     "text": [
      "Results on the test set with hyperparameter with Neural Network:\n",
      "              precision    recall  f1-score   support\n",
      "\n",
      "           0       0.86      0.99      0.92      4694\n",
      "           1       0.99      1.00      0.99      4721\n",
      "           2       0.59      0.54      0.57      4610\n",
      "           3       0.62      0.58      0.60      4665\n",
      "\n",
      "    accuracy                           0.78     18690\n",
      "   macro avg       0.77      0.78      0.77     18690\n",
      "weighted avg       0.77      0.78      0.77     18690\n",
      "\n"
     ]
    }
   ],
   "source": [
    "y_pred = clf.predict(x_test_std)\n",
    "\n",
    "from sklearn.metrics import classification_report\n",
    "print('Results on the test set with hyperparameter with Neural Network:')\n",
    "print(classification_report(y_test, y_predNNHYP))"
   ]
  },
  {
   "cell_type": "markdown",
   "metadata": {},
   "source": [
    "# AUTOMATIC MACHINE LEARNING COMPARISON"
   ]
  },
  {
   "cell_type": "code",
   "execution_count": 112,
   "metadata": {},
   "outputs": [],
   "source": [
    "# prepare models\n",
    "models = []\n",
    "models.append(('K-Nearest Neighbor', KNeighborsClassifier()))\n",
    "models.append(('Gradient boosting Classifier', GradientBoostingClassifier()))\n",
    "models.append(('Random Forest Classifier', RandomForestClassifier(n_estimators=100)))\n",
    "models.append(('Neural Network', MLPClassifier()))"
   ]
  },
  {
   "cell_type": "code",
   "execution_count": 113,
   "metadata": {},
   "outputs": [],
   "source": [
    "# evaluate each model in turn\n",
    "results = []\n",
    "names = []\n",
    "scoring = 'accuracy'"
   ]
  },
  {
   "cell_type": "code",
   "execution_count": 114,
   "metadata": {},
   "outputs": [
    {
     "name": "stdout",
     "output_type": "stream",
     "text": [
      "K-Nearest Neighbor: 0.714744 , 0.005191\n",
      "Gradient boosting Classifier: 0.671784 , 0.043262\n",
      "Random Forest Classifier: 0.728220 , 0.087307\n"
     ]
    },
    {
     "name": "stderr",
     "output_type": "stream",
     "text": [
      "C:\\Users\\couli\\anaconda3\\envs\\R and Python\\lib\\site-packages\\sklearn\\neural_network\\_multilayer_perceptron.py:614: ConvergenceWarning: Stochastic Optimizer: Maximum iterations (200) reached and the optimization hasn't converged yet.\n",
      "  warnings.warn(\n",
      "C:\\Users\\couli\\anaconda3\\envs\\R and Python\\lib\\site-packages\\sklearn\\neural_network\\_multilayer_perceptron.py:614: ConvergenceWarning: Stochastic Optimizer: Maximum iterations (200) reached and the optimization hasn't converged yet.\n",
      "  warnings.warn(\n",
      "C:\\Users\\couli\\anaconda3\\envs\\R and Python\\lib\\site-packages\\sklearn\\neural_network\\_multilayer_perceptron.py:614: ConvergenceWarning: Stochastic Optimizer: Maximum iterations (200) reached and the optimization hasn't converged yet.\n",
      "  warnings.warn(\n",
      "C:\\Users\\couli\\anaconda3\\envs\\R and Python\\lib\\site-packages\\sklearn\\neural_network\\_multilayer_perceptron.py:614: ConvergenceWarning: Stochastic Optimizer: Maximum iterations (200) reached and the optimization hasn't converged yet.\n",
      "  warnings.warn(\n"
     ]
    },
    {
     "name": "stdout",
     "output_type": "stream",
     "text": [
      "Neural Network: 0.703514 , 0.086890\n"
     ]
    },
    {
     "name": "stderr",
     "output_type": "stream",
     "text": [
      "C:\\Users\\couli\\anaconda3\\envs\\R and Python\\lib\\site-packages\\sklearn\\neural_network\\_multilayer_perceptron.py:614: ConvergenceWarning: Stochastic Optimizer: Maximum iterations (200) reached and the optimization hasn't converged yet.\n",
      "  warnings.warn(\n"
     ]
    }
   ],
   "source": [
    "for name, model in models:\n",
    "    kfold = KFold(n_splits=5)\n",
    "    result = cross_val_score(model, x_train_std, y_train, cv=kfold, scoring=scoring)\n",
    "    results.append(result)\n",
    "    names.append(name)\n",
    "    results_nump = np.array(results)\n",
    "    msg = \"%s: %f , %f\" % (name, results_nump.mean(), results_nump.std()) #two statistics: mean and std.deviation\n",
    "    print(msg)"
   ]
  },
  {
   "cell_type": "code",
   "execution_count": 115,
   "metadata": {},
   "outputs": [
    {
     "data": {
      "image/png": "[encoded data removed]",
      "text/plain": [
       "<Figure size 864x504 with 1 Axes>"
      ]
     },
     "metadata": {
      "needs_background": "light"
     },
     "output_type": "display_data"
    }
   ],
   "source": [
    "# boxplot algorithm comparison\n",
    "fig = pyplot.figure(figsize = (12,7))\n",
    "fig.suptitle('Machine Learning classification algorithm comparison')\n",
    "ax = fig.add_subplot(111)\n",
    "pyplot.boxplot(results)\n",
    "ax.set_xticklabels(names)\n",
    "pyplot.show()"
   ]
  },
  {
   "cell_type": "markdown",
   "metadata": {},
   "source": [
    "# COMPARISON MACHINE LEARNING MODEL WITH HYPERPARAMETER RESULT"
   ]
  },
  {
   "cell_type": "code",
   "execution_count": 116,
   "metadata": {},
   "outputs": [],
   "source": [
    "# prepare models\n",
    "models = []\n",
    "models.append(('K-Nearest Neighbor', KNeighborsClassifier(n_neighbors = 1)))\n",
    "models.append(('Gradient BoostingClassifier', GradientBoostingClassifier(n_estimators=10000)))\n",
    "models.append(('Random ForestClassifier', RandomForestClassifier(bootstrap=True, class_weight=None, criterion='gini',\n",
    "                       max_depth=None, max_features='auto', max_leaf_nodes=None,\n",
    "                       min_impurity_decrease=0.0, min_impurity_split=None,\n",
    "                       min_samples_leaf=1, min_samples_split=2,\n",
    "                       min_weight_fraction_leaf=0.0, n_estimators=200,\n",
    "                       n_jobs=None, oob_score=False, random_state=None,\n",
    "                       verbose=0, warm_start=False)))\n",
    "models.append(('Neural Network', MLPClassifier(activation= 'tanh', alpha= 0.0001, hidden_layer_sizes= [50, 100, 50], learning_rate= 'constant', solver= 'adam')))"
   ]
  },
  {
   "cell_type": "code",
   "execution_count": 117,
   "metadata": {},
   "outputs": [],
   "source": [
    "# evaluate each model in turn\n",
    "results = []\n",
    "names = []\n",
    "scoring = 'accuracy'"
   ]
  },
  {
   "cell_type": "code",
   "execution_count": 118,
   "metadata": {},
   "outputs": [
    {
     "name": "stdout",
     "output_type": "stream",
     "text": [
      "K-Nearest Neighbor: 0.785577 , 0.006274\n",
      "Gradient BoostingClassifier: 0.810250 , 0.025165\n",
      "Random ForestClassifier: 0.820668 , 0.025370\n"
     ]
    },
    {
     "name": "stderr",
     "output_type": "stream",
     "text": [
      "C:\\Users\\couli\\anaconda3\\envs\\R and Python\\lib\\site-packages\\sklearn\\neural_network\\_multilayer_perceptron.py:614: ConvergenceWarning: Stochastic Optimizer: Maximum iterations (200) reached and the optimization hasn't converged yet.\n",
      "  warnings.warn(\n",
      "C:\\Users\\couli\\anaconda3\\envs\\R and Python\\lib\\site-packages\\sklearn\\neural_network\\_multilayer_perceptron.py:614: ConvergenceWarning: Stochastic Optimizer: Maximum iterations (200) reached and the optimization hasn't converged yet.\n",
      "  warnings.warn(\n",
      "C:\\Users\\couli\\anaconda3\\envs\\R and Python\\lib\\site-packages\\sklearn\\neural_network\\_multilayer_perceptron.py:614: ConvergenceWarning: Stochastic Optimizer: Maximum iterations (200) reached and the optimization hasn't converged yet.\n",
      "  warnings.warn(\n",
      "C:\\Users\\couli\\anaconda3\\envs\\R and Python\\lib\\site-packages\\sklearn\\neural_network\\_multilayer_perceptron.py:614: ConvergenceWarning: Stochastic Optimizer: Maximum iterations (200) reached and the optimization hasn't converged yet.\n",
      "  warnings.warn(\n"
     ]
    },
    {
     "name": "stdout",
     "output_type": "stream",
     "text": [
      "Neural Network: 0.807515 , 0.031747\n"
     ]
    },
    {
     "name": "stderr",
     "output_type": "stream",
     "text": [
      "C:\\Users\\couli\\anaconda3\\envs\\R and Python\\lib\\site-packages\\sklearn\\neural_network\\_multilayer_perceptron.py:614: ConvergenceWarning: Stochastic Optimizer: Maximum iterations (200) reached and the optimization hasn't converged yet.\n",
      "  warnings.warn(\n"
     ]
    }
   ],
   "source": [
    "for name, model in models:\n",
    "    kfold = KFold(n_splits=5)\n",
    "    result = cross_val_score(model, x_train_std, y_train, cv=kfold, scoring=scoring)\n",
    "    results.append(result)\n",
    "    names.append(name)\n",
    "    results_nump = np.array(results)\n",
    "    msg = \"%s: %f , %f\" % (name, results_nump.mean(), results_nump.std()) #two statistics: mean and std.deviation\n",
    "    print(msg)"
   ]
  },
  {
   "cell_type": "code",
   "execution_count": 119,
   "metadata": {},
   "outputs": [
    {
     "data": {
      "image/png": "[encoded data removed]",
      "text/plain": [
       "<Figure size 864x504 with 1 Axes>"
      ]
     },
     "metadata": {
      "needs_background": "light"
     },
     "output_type": "display_data"
    }
   ],
   "source": [
    "# boxplot algorithm comparison\n",
    "fig = pyplot.figure(figsize = (12,7))\n",
    "fig.suptitle('Machine Learning classification algorithm comparison With Hyperparameter Optimization Result')\n",
    "ax = fig.add_subplot(111)\n",
    "pyplot.boxplot(results)\n",
    "ax.set_xticklabels(names)\n",
    "pyplot.show()"
   ]
  },
  {
   "cell_type": "markdown",
   "metadata": {},
   "source": [
    "<h3>ROC AUC FOR OUR FINAL BEST MODEL WITH HYPERPARAMETER<h3> <br>\n",
    "\n",
    "1. ROC AUC FOR RANDOM FOREST CLASSIFIER\n",
    "2. ROC AUC FOR GRADIENT BOOSTING CLASSIFIER\n",
    "\n",
    " "
   ]
  },
  {
   "cell_type": "code",
   "execution_count": 43,
   "metadata": {},
   "outputs": [],
   "source": [
    "# Binarize the output\n",
    "from sklearn.preprocessing import label_binarize\n",
    "y_ros = label_binarize(y_ros, classes=[0, 1,2,3])\n",
    "n_classes = y_ros.shape[1]"
   ]
  },
  {
   "cell_type": "code",
   "execution_count": 44,
   "metadata": {},
   "outputs": [
    {
     "name": "stdout",
     "output_type": "stream",
     "text": [
      "4\n"
     ]
    }
   ],
   "source": [
    "print(n_classes)"
   ]
  },
  {
   "cell_type": "code",
   "execution_count": 45,
   "metadata": {},
   "outputs": [],
   "source": [
    "# Add noisy features to make the problem harder\n",
    "random_state = np.random.RandomState(0)\n",
    "n_samples, n_features = X.shape\n",
    "X = np.c_[X, random_state.randn(n_samples, 200 * n_features)]\n",
    "\n",
    "# shuffle and split training and test sets\n",
    "X_train, X_test, y_train, y_test = train_test_split(X_ros, y_ros, test_size=.3,\n",
    "                                                    random_state=42)"
   ]
  },
  {
   "cell_type": "code",
   "execution_count": 46,
   "metadata": {},
   "outputs": [],
   "source": [
    "#Nous pouvons maintenant standardiser les variables, \n",
    "#c'est-à-dire les centrer (ramener leur moyenne à 0) \n",
    "#et les réduire (ramener leur écart-type à 1), \n",
    "#afin qu'elles se placent toutes à peu près sur la même échelle\n",
    "# standardiser les données\n",
    "std_scale = preprocessing.StandardScaler().fit(X_train)\n",
    "X_train = std_scale.transform(X_train)\n",
    "X_test = std_scale.transform(X_test)"
   ]
  },
  {
   "cell_type": "markdown",
   "metadata": {},
   "source": [
    "# ROC AUC FOR RANDOM FOREST CLASSIFIER WITH HYPERPARAMETER"
   ]
  },
  {
   "cell_type": "code",
   "execution_count": 133,
   "metadata": {},
   "outputs": [],
   "source": [
    "# Learn to predict each class against the other\n",
    "RFclassifier = OneVsRestClassifier(RandomForestClassifier(bootstrap=True, class_weight=None, criterion='gini',\n",
    "                       max_depth=None, max_features='auto', max_leaf_nodes=None,\n",
    "                       min_impurity_decrease=0.0, min_impurity_split=None,\n",
    "                       min_samples_leaf=1, min_samples_split=2,\n",
    "                       min_weight_fraction_leaf=0.0, n_estimators=200,\n",
    "                       n_jobs=None, oob_score=False, random_state=None,\n",
    "                       verbose=0, warm_start=False))"
   ]
  },
  {
   "cell_type": "code",
   "execution_count": 134,
   "metadata": {},
   "outputs": [],
   "source": [
    "y_score = RFclassifier.fit(X_train, y_train).predict_proba(X_test)"
   ]
  },
  {
   "cell_type": "code",
   "execution_count": 135,
   "metadata": {},
   "outputs": [],
   "source": [
    "# Compute ROC curve and ROC area for each class\n",
    "fpr = dict()\n",
    "tpr = dict()\n",
    "roc_auc = dict()\n",
    "for i in range(n_classes):\n",
    "    fpr[i], tpr[i], _ = roc_curve(y_test[:, i], y_score[:, i])\n",
    "    roc_auc[i] = auc(fpr[i], tpr[i])\n",
    "\n",
    "# Compute micro-average ROC curve and ROC area\n",
    "fpr[\"micro\"], tpr[\"micro\"], _ = roc_curve(y_test.ravel(), y_score.ravel())\n",
    "roc_auc[\"micro\"] = auc(fpr[\"micro\"], tpr[\"micro\"])"
   ]
  },
  {
   "cell_type": "code",
   "execution_count": 136,
   "metadata": {},
   "outputs": [
    {
     "data": {
      "image/png": "[encoded data removed]",
      "text/plain": [
       "<Figure size 432x288 with 1 Axes>"
      ]
     },
     "metadata": {
      "needs_background": "light"
     },
     "output_type": "display_data"
    }
   ],
   "source": [
    "# First aggregate all false positive rates\n",
    "all_fpr = np.unique(np.concatenate([fpr[i] for i in range(n_classes)]))\n",
    "\n",
    "# Then interpolate all ROC curves at this points\n",
    "mean_tpr = np.zeros_like(all_fpr)\n",
    "for i in range(n_classes):\n",
    "    mean_tpr += np.interp(all_fpr, fpr[i], tpr[i])\n",
    "\n",
    "# Finally average it and compute AUC\n",
    "mean_tpr /= n_classes\n",
    "\n",
    "fpr[\"macro\"] = all_fpr\n",
    "tpr[\"macro\"] = mean_tpr\n",
    "roc_auc[\"macro\"] = auc(fpr[\"macro\"], tpr[\"macro\"])\n",
    "\n",
    "# Plot all ROC curves\n",
    "plt.figure()\n",
    "lw = 2\n",
    "plt.plot(fpr[\"micro\"], tpr[\"micro\"],\n",
    "         label='micro-average ROC curve (area = {0:0.2f})'\n",
    "               ''.format(roc_auc[\"micro\"]),\n",
    "         color='deeppink', linestyle=':', linewidth=4)\n",
    "\n",
    "plt.plot(fpr[\"macro\"], tpr[\"macro\"],\n",
    "         label='macro-average ROC curve (area = {0:0.2f})'\n",
    "               ''.format(roc_auc[\"macro\"]),\n",
    "         color='navy', linestyle=':', linewidth=4)\n",
    "index=['No Injury',\"Minor Injury\",\"Severe Injury\",\"Fatal Injury\"]\n",
    "colors = cycle(['aqua', 'darkorange', 'cornflowerblue','red'])\n",
    "\n",
    "\n",
    "\n",
    "for i, color in zip(range(n_classes),colors):\n",
    "    \n",
    "    if i==0: \n",
    "        classe=\"A améliorer\"\n",
    "        \n",
    "    if i==1:\n",
    "        classe==\"A corriger de manière urgente\"\n",
    "      \n",
    "    if i==2 :\n",
    "        classe==\"Satisfaisant\"\n",
    "  \n",
    "    if i==3 :\n",
    "        classe==\"Très satisfaisant\"\n",
    "      \n",
    "\n",
    "    plt.plot(fpr[i], tpr[i], color=color,lw=lw,\n",
    "             label='ROC curve of class {0} (area = {1:0.2f})'\n",
    "             ''.format(i, roc_auc[i]))\n",
    "\n",
    "    \n",
    "    #[\"Minor Injury\",\"Severe Injury\",\"Fatal Injury\" ,\"No Injury\"]\n",
    "    \n",
    "plt.plot([0, 1], [0, 1], 'k--', lw=lw)\n",
    "plt.xlim([0.0, 1.0])\n",
    "plt.ylim([0.0, 1.05])\n",
    "plt.xlabel('False Positive Rate')\n",
    "plt.ylabel('True Positive Rate')\n",
    "plt.title('Some extension of Receiver operating characteristic to multi-class for random forest classifier with hyperparameter')\n",
    "plt.legend(loc=\"lower right\")\n",
    "plt.show()"
   ]
  },
  {
   "cell_type": "markdown",
   "metadata": {},
   "source": [
    "# ROC AUC FOR GRADIENT BOOSTING CLASSIFIER WITH HYPERPARAMETER"
   ]
  },
  {
   "cell_type": "code",
   "execution_count": 40,
   "metadata": {},
   "outputs": [],
   "source": [
    "# Learn to predict each class against the other\n",
    "GBclassifier = OneVsRestClassifier(GradientBoostingClassifier(n_estimators=10000))"
   ]
  },
  {
   "cell_type": "code",
   "execution_count": 41,
   "metadata": {},
   "outputs": [],
   "source": [
    "y_score = GBclassifier.fit(X_train, y_train).predict_proba(X_test)"
   ]
  },
  {
   "cell_type": "code",
   "execution_count": 47,
   "metadata": {},
   "outputs": [],
   "source": [
    "# Compute ROC curve and ROC area for each class\n",
    "fpr = dict()\n",
    "tpr = dict()\n",
    "roc_auc = dict()\n",
    "for i in range(n_classes):\n",
    "    fpr[i], tpr[i], _ = roc_curve(y_test[:, i], y_score[:, i])\n",
    "    roc_auc[i] = auc(fpr[i], tpr[i])\n",
    "\n",
    "# Compute micro-average ROC curve and ROC area\n",
    "fpr[\"micro\"], tpr[\"micro\"], _ = roc_curve(y_test.ravel(), y_score.ravel())\n",
    "roc_auc[\"micro\"] = auc(fpr[\"micro\"], tpr[\"micro\"])"
   ]
  },
  {
   "cell_type": "code",
   "execution_count": 50,
   "metadata": {},
   "outputs": [
    {
     "data": {
      "image/png": "[encoded data removed]",
      "text/plain": [
       "<Figure size 432x288 with 1 Axes>"
      ]
     },
     "metadata": {
      "needs_background": "light"
     },
     "output_type": "display_data"
    }
   ],
   "source": [
    "# First aggregate all false positive rates\n",
    "all_fpr = np.unique(np.concatenate([fpr[i] for i in range(n_classes)]))\n",
    "\n",
    "# Then interpolate all ROC curves at this points\n",
    "mean_tpr = np.zeros_like(all_fpr)\n",
    "for i in range(n_classes):\n",
    "    mean_tpr += np.interp(all_fpr, fpr[i], tpr[i])\n",
    "\n",
    "# Finally average it and compute AUC\n",
    "mean_tpr /= n_classes\n",
    "\n",
    "fpr[\"macro\"] = all_fpr\n",
    "tpr[\"macro\"] = mean_tpr\n",
    "roc_auc[\"macro\"] = auc(fpr[\"macro\"], tpr[\"macro\"])\n",
    "\n",
    "# Plot all ROC curves\n",
    "plt.figure()\n",
    "lw = 2\n",
    "plt.plot(fpr[\"micro\"], tpr[\"micro\"],\n",
    "         label='micro-average ROC curve (area = {0:0.2f})'\n",
    "               ''.format(roc_auc[\"micro\"]),\n",
    "         color='deeppink', linestyle=':', linewidth=4)\n",
    "\n",
    "plt.plot(fpr[\"macro\"], tpr[\"macro\"],\n",
    "         label='macro-average ROC curve (area = {0:0.2f})'\n",
    "               ''.format(roc_auc[\"macro\"]),\n",
    "         color='navy', linestyle=':', linewidth=4)\n",
    "index=['No Injury',\"Minor Injury\",\"Severe Injury\",\"Fatal Injury\"]\n",
    "colors = cycle(['aqua', 'darkorange', 'cornflowerblue','red'])\n",
    "\n",
    "\n",
    "\n",
    "for i, color in zip(range(n_classes),colors):\n",
    "    \n",
    "    if i==0: \n",
    "        classe=\"A améliorer\"\n",
    "        \n",
    "    if i==1:\n",
    "        classe==\"A corriger de manière urgente\"\n",
    "      \n",
    "    if i==2 :\n",
    "        classe==\"Satisfaisant\"\n",
    "  \n",
    "    if i==3 :\n",
    "        classe==\"Très satisfaisant\"\n",
    "      \n",
    "\n",
    "    plt.plot(fpr[i], tpr[i], color=color,lw=lw,\n",
    "             label='ROC curve of class {0} (area = {1:0.2f})'\n",
    "             ''.format(i, roc_auc[i]))\n",
    "\n",
    "    \n",
    "    #[\"Minor Injury\",\"Severe Injury\",\"Fatal Injury\" ,\"No Injury\"]\n",
    "    \n",
    "plt.plot([0, 1], [0, 1], 'k--', lw=lw)\n",
    "plt.xlim([0.0, 1.0])\n",
    "plt.ylim([0.0, 1.05])\n",
    "plt.xlabel('False Positive Rate')\n",
    "plt.ylabel('True Positive Rate')\n",
    "plt.title('Some extension of Receiver operating characteristic to multi-class for gradient boosting classifier with hyperparameter')\n",
    "plt.legend(loc=\"lower right\")\n",
    "plt.show()"
   ]
  },
  {
   "cell_type": "markdown",
   "metadata": {},
   "source": [
    "# CONCLUSION"
   ]
  },
  {
   "cell_type": "markdown",
   "metadata": {},
   "source": [
    "We can conclude that after our study on the different models, random forest and gradient boosting remain the most efficient algorithms in classification with hyperparameter optimization. However, we increased the number of estimates which is the number of trees for the two models, but it turned out that these models also had difficulties during machine learning.\n",
    "\n",
    "\n",
    "Building the most achivied model has not been possible due to:\n",
    "\n",
    "The meticulousness, the tediousness and the iterativeness of the process requires relevant and powerful computation. Therefore, working from a local evironment with low GPU make it worst. This is the case of jupyther notebook.\n",
    "\n",
    "\n",
    "Our future work : Hybrid with genetic algorithm + Neural Network(Multilayer perceptron)\n"
   ]
  },
  {
   "cell_type": "markdown",
   "metadata": {},
   "source": [
    "# REFERENCE"
   ]
  },
  {
   "cell_type": "markdown",
   "metadata": {},
   "source": [
    "[Reference 1](Adi, S., Adishesha, V., Bharadwaj, K., & Narayan, A. (2020). Earthquake Damage Prediction Using Random Forest and Gradient Boosting Classifier. American Journal of Biological and Environmental Statistics, 6, 58. https://doi.org/10.11648/j.ajbes.20200603.14) <br>\n",
    "\n",
    "[Reference 2](Bergstra, J., & Bengio, Y. (s.d.). Random Search for Hyper-Parameter Optimization. 25)<br>\n",
    "\n",
    "[Reference 3](A brief introduction to Multilayer Perceptrons. https://doi.org/10.17632/xszb89kvhk.1) <br>\n",
    "\n",
    "\n",
    "[Reference 4](Khorshidi, H., & Aickelin, U. (2020). Synthetic Over-sampling with the Minority and Majority classes for imbalance problems.) <br>\n",
    "\n",
    "[Reference 5](Pulabaigari, V., & T, H. S. (2011). An Improvement to k-Nearest Neighbor Classifier. In 2011 IEEE Recent Advances in Intelligent Computational Systems, RAICS 2011. https://doi.org/10.1109/RAICS.2011.6069307)"
   ]
  },
  {
   "cell_type": "code",
   "execution_count": null,
   "metadata": {},
   "outputs": [],
   "source": []
  },
  {
   "cell_type": "code",
   "execution_count": null,
   "metadata": {},
   "outputs": [],
   "source": []
  }
 ],
 "metadata": {
  "kernelspec": {
   "display_name": "Python 3",
   "language": "python",
   "name": "python3"
  },
  "language_info": {
   "codemirror_mode": {
    "name": "ipython",
    "version": 3
   },
   "file_extension": ".py",
   "mimetype": "text/x-python",
   "name": "python",
   "nbconvert_exporter": "python",
   "pygments_lexer": "ipython3",
   "version": "3.8.3"
  }
 },
 "nbformat": 4,
 "nbformat_minor": 5
}
